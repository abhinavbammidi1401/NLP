{
 "cells": [
  {
   "cell_type": "markdown",
   "metadata": {},
   "source": [
    "**What is TEXT SIMILARITY?**\n",
    "Text similarity is a really useful natural language processing (NLP) tool. It allows you to find similar pieces of text and has many real-world use cases.\n",
    "\n",
    "**Different Text Similarity Algorithms:**\n",
    "1. Cosine Similarity\n",
    "2. Levenshtein Distance\n",
    "3. Jaccard Index\n",
    "4. Euclidean Distance\n",
    "5. Hamming Distance\n",
    "6. Word Embeddings\n",
    "7. Pre-trained language models\n",
    "\n",
    "In this exercise, we will be exploring all the algorithms, except *Word Embeddings* and *Pre-trained models*.\n",
    "\n",
    "**Applications of Text Similarity Detection:**\n",
    "1. Plagirism Detection\n",
    "2. Document Classification\n",
    "3. Information Retrieval\n",
    "4. Language Translation\n",
    "5. Sentiment Analysis\n",
    "6. Summarization"
   ]
  },
  {
   "cell_type": "code",
   "execution_count": 1,
   "metadata": {},
   "outputs": [],
   "source": [
    "f = open('txt1.txt','r',encoding='utf8')\n",
    "text1 = f.read()\n",
    "g = open('txt2.txt','r',encoding='utf8')\n",
    "text2 = g.read()"
   ]
  },
  {
   "cell_type": "code",
   "execution_count": 2,
   "metadata": {},
   "outputs": [],
   "source": [
    "import nltk\n",
    "from nltk.corpus import stopwords\n",
    "from nltk.tokenize import word_tokenize\n",
    "from nltk.stem import WordNetLemmatizer\n",
    "from sklearn.feature_extraction.text import TfidfVectorizer\n",
    "from sklearn.metrics.pairwise import cosine_similarity"
   ]
  },
  {
   "cell_type": "code",
   "execution_count": 3,
   "metadata": {},
   "outputs": [
    {
     "name": "stdout",
     "output_type": "stream",
     "text": [
      "['the', 'history', 'of', 'automobiles', 'is', 'an', 'expansive', 'narrative', 'that', 'unfolds', 'across', 'centuries', ',', 'tracing', 'the', 'evolution', 'of', 'transportation', 'from', 'its', 'humble', 'beginnings', 'to', 'the', 'complex', ',', 'interconnected', 'network', 'of', 'roads', 'and', 'vehicles', 'that', 'define', 'modern', 'society', '.', 'the', 'concept', 'of', 'self-propelled', 'vehicles', 'has', 'roots', 'dating', 'back', 'to', 'antiquity', ',', 'with', 'early', 'experiments', 'involving', 'steam-powered', 'machines', 'in', 'the', '17th', 'century', '.', 'however', ',', 'it', 'was', \"n't\", 'until', 'the', 'late', '19th', 'and', 'early', '20th', 'centuries', 'that', 'the', 'automobile', 'as', 'we', 'know', 'it', 'began', 'to', 'take', 'shape', '.', 'karl', 'benz', \"'s\", 'creation', 'of', 'the', 'first', 'practical', 'automobile', 'in', '1885', ',', 'featuring', 'a', 'gasoline-powered', 'internal', 'combustion', 'engine', ',', 'marked', 'a', 'significant', 'milestone', 'in', 'automotive', 'history', '.', 'this', 'invention', 'paved', 'the', 'way', 'for', 'the', 'mass', 'production', 'of', 'cars', ',', 'a', 'feat', 'achieved', 'by', 'companies', 'like', 'ford', 'with', 'the', 'introduction', 'of', 'assembly', 'line', 'manufacturing', 'techniques', 'in', '1913.', 'the', 'widespread', 'adoption', 'of', 'automobiles', 'revolutionized', 'transportation', ',', 'facilitating', 'unprecedented', 'mobility', 'and', 'connectivity', 'between', 'people', 'and', 'places', '.', 'throughout', 'the', '20th', 'century', ',', 'cars', 'continued', 'to', 'evolve', 'with', 'advancements', 'in', 'technology', ',', 'design', ',', 'and', 'safety', 'features', ',', 'becoming', 'integral', 'to', 'daily', 'life', 'and', 'reshaping', 'urban', 'landscapes', '.', 'from', 'the', 'model', 't', 'to', 'the', 'electric', 'vehicles', 'of', 'the', '21st', 'century', ',', 'cars', 'have', 'played', 'a', 'central', 'role', 'in', 'shaping', 'economies', ',', 'cultures', ',', 'and', 'lifestyles', 'around', 'the', 'world', '.']\n",
      "['the', 'history', 'of', 'motorcycles', 'unfolds', 'as', 'a', 'vibrant', 'tapestry', 'of', 'innovation', ',', 'speed', ',', 'and', 'adventure', 'that', 'spans', 'more', 'than', 'a', 'century', '.', 'the', 'genesis', 'of', 'motorcycles', 'can', 'be', 'traced', 'back', 'to', 'the', 'mid-19th', 'century', ',', 'when', 'inventors', 'experimented', 'with', 'attaching', 'engines', 'to', 'bicycles', ',', 'giving', 'rise', 'to', 'crude', ',', 'motorized', 'contraptions', '.', 'in', '1885', ',', 'gottlieb', 'daimler', 'and', 'wilhelm', 'maybach', 'achieved', 'a', 'breakthrough', 'with', 'the', 'creation', 'of', 'the', 'first', 'true', 'motorcycle', ',', 'the', 'daimler', 'reitwagen', ',', 'powered', 'by', 'a', 'gasoline', 'engine', '.', 'this', 'pioneering', 'machine', 'laid', 'the', 'groundwork', 'for', 'subsequent', 'developments', 'in', 'motorcycle', 'design', 'and', 'engineering', '.', 'throughout', 'the', 'late', '19th', 'and', 'early', '20th', 'centuries', ',', 'motorcycle', 'manufacturers', 'like', 'harley-davidson', ',', 'indian', ',', 'and', 'triumph', 'emerged', ',', 'producing', 'iconic', 'models', 'that', 'captured', 'the', 'imaginations', 'of', 'riders', 'worldwide', '.', 'motorcycles', 'became', 'synonymous', 'with', 'freedom', ',', 'rebellion', ',', 'and', 'the', 'thrill', 'of', 'the', 'open', 'road', ',', 'attracting', 'enthusiasts', 'who', 'embraced', 'the', 'exhilaration', 'of', 'two-wheeled', 'adventure', '.', 'in', 'the', 'post-war', 'era', ',', 'motorcycle', 'culture', 'flourished', ',', 'with', 'returning', 'veterans', 'seeking', 'the', 'camaraderie', 'and', 'excitement', 'of', 'riding', '.', 'over', 'the', 'decades', ',', 'motorcycles', 'evolved', 'with', 'advances', 'in', 'technology', ',', 'resulting', 'in', 'a', 'diverse', 'array', 'of', 'styles', 'and', 'models', ',', 'from', 'sleek', 'sport', 'bikes', 'to', 'rugged', 'cruisers', 'and', 'custom', 'choppers', '.', 'today', ',', 'motorcycles', 'continue', 'to', 'inspire', 'passion', 'and', 'excitement', 'among', 'riders', 'of', 'all', 'ages', ',', 'embodying', 'the', 'spirit', 'of', 'freedom', ',', 'individuality', ',', 'and', 'exploration', '.']\n"
     ]
    }
   ],
   "source": [
    "# tokenize the documents\n",
    "tokens1 = nltk.word_tokenize(text1.lower())\n",
    "tokens2 = nltk.word_tokenize(text2.lower())\n",
    "print(tokens1)\n",
    "print(tokens2)"
   ]
  },
  {
   "cell_type": "code",
   "execution_count": 4,
   "metadata": {},
   "outputs": [
    {
     "name": "stdout",
     "output_type": "stream",
     "text": [
      "['the', 'history', 'of', 'automobile', 'is', 'an', 'expansive', 'narrative', 'that', 'unfolds', 'across', 'century', ',', 'tracing', 'the', 'evolution', 'of', 'transportation', 'from', 'it', 'humble', 'beginning', 'to', 'the', 'complex', ',', 'interconnected', 'network', 'of', 'road', 'and', 'vehicle', 'that', 'define', 'modern', 'society', '.', 'the', 'concept', 'of', 'self-propelled', 'vehicle', 'ha', 'root', 'dating', 'back', 'to', 'antiquity', ',', 'with', 'early', 'experiment', 'involving', 'steam-powered', 'machine', 'in', 'the', '17th', 'century', '.', 'however', ',', 'it', 'wa', \"n't\", 'until', 'the', 'late', '19th', 'and', 'early', '20th', 'century', 'that', 'the', 'automobile', 'a', 'we', 'know', 'it', 'began', 'to', 'take', 'shape', '.', 'karl', 'benz', \"'s\", 'creation', 'of', 'the', 'first', 'practical', 'automobile', 'in', '1885', ',', 'featuring', 'a', 'gasoline-powered', 'internal', 'combustion', 'engine', ',', 'marked', 'a', 'significant', 'milestone', 'in', 'automotive', 'history', '.', 'this', 'invention', 'paved', 'the', 'way', 'for', 'the', 'mass', 'production', 'of', 'car', ',', 'a', 'feat', 'achieved', 'by', 'company', 'like', 'ford', 'with', 'the', 'introduction', 'of', 'assembly', 'line', 'manufacturing', 'technique', 'in', '1913.', 'the', 'widespread', 'adoption', 'of', 'automobile', 'revolutionized', 'transportation', ',', 'facilitating', 'unprecedented', 'mobility', 'and', 'connectivity', 'between', 'people', 'and', 'place', '.', 'throughout', 'the', '20th', 'century', ',', 'car', 'continued', 'to', 'evolve', 'with', 'advancement', 'in', 'technology', ',', 'design', ',', 'and', 'safety', 'feature', ',', 'becoming', 'integral', 'to', 'daily', 'life', 'and', 'reshaping', 'urban', 'landscape', '.', 'from', 'the', 'model', 't', 'to', 'the', 'electric', 'vehicle', 'of', 'the', '21st', 'century', ',', 'car', 'have', 'played', 'a', 'central', 'role', 'in', 'shaping', 'economy', ',', 'culture', ',', 'and', 'lifestyle', 'around', 'the', 'world', '.']\n",
      "['the', 'history', 'of', 'motorcycle', 'unfolds', 'a', 'a', 'vibrant', 'tapestry', 'of', 'innovation', ',', 'speed', ',', 'and', 'adventure', 'that', 'span', 'more', 'than', 'a', 'century', '.', 'the', 'genesis', 'of', 'motorcycle', 'can', 'be', 'traced', 'back', 'to', 'the', 'mid-19th', 'century', ',', 'when', 'inventor', 'experimented', 'with', 'attaching', 'engine', 'to', 'bicycle', ',', 'giving', 'rise', 'to', 'crude', ',', 'motorized', 'contraption', '.', 'in', '1885', ',', 'gottlieb', 'daimler', 'and', 'wilhelm', 'maybach', 'achieved', 'a', 'breakthrough', 'with', 'the', 'creation', 'of', 'the', 'first', 'true', 'motorcycle', ',', 'the', 'daimler', 'reitwagen', ',', 'powered', 'by', 'a', 'gasoline', 'engine', '.', 'this', 'pioneering', 'machine', 'laid', 'the', 'groundwork', 'for', 'subsequent', 'development', 'in', 'motorcycle', 'design', 'and', 'engineering', '.', 'throughout', 'the', 'late', '19th', 'and', 'early', '20th', 'century', ',', 'motorcycle', 'manufacturer', 'like', 'harley-davidson', ',', 'indian', ',', 'and', 'triumph', 'emerged', ',', 'producing', 'iconic', 'model', 'that', 'captured', 'the', 'imagination', 'of', 'rider', 'worldwide', '.', 'motorcycle', 'became', 'synonymous', 'with', 'freedom', ',', 'rebellion', ',', 'and', 'the', 'thrill', 'of', 'the', 'open', 'road', ',', 'attracting', 'enthusiast', 'who', 'embraced', 'the', 'exhilaration', 'of', 'two-wheeled', 'adventure', '.', 'in', 'the', 'post-war', 'era', ',', 'motorcycle', 'culture', 'flourished', ',', 'with', 'returning', 'veteran', 'seeking', 'the', 'camaraderie', 'and', 'excitement', 'of', 'riding', '.', 'over', 'the', 'decade', ',', 'motorcycle', 'evolved', 'with', 'advance', 'in', 'technology', ',', 'resulting', 'in', 'a', 'diverse', 'array', 'of', 'style', 'and', 'model', ',', 'from', 'sleek', 'sport', 'bike', 'to', 'rugged', 'cruiser', 'and', 'custom', 'chopper', '.', 'today', ',', 'motorcycle', 'continue', 'to', 'inspire', 'passion', 'and', 'excitement', 'among', 'rider', 'of', 'all', 'age', ',', 'embodying', 'the', 'spirit', 'of', 'freedom', ',', 'individuality', ',', 'and', 'exploration', '.']\n"
     ]
    }
   ],
   "source": [
    "# lemmatize the tokens\n",
    "lemmatizer = WordNetLemmatizer()\n",
    "tokens1 = [lemmatizer.lemmatize(token) for token in tokens1]\n",
    "tokens2 = [lemmatizer.lemmatize(token) for token in tokens2]\n",
    "print(tokens1)\n",
    "print(tokens2)"
   ]
  },
  {
   "cell_type": "code",
   "execution_count": 5,
   "metadata": {},
   "outputs": [
    {
     "name": "stdout",
     "output_type": "stream",
     "text": [
      "['history', 'automobile', 'expansive', 'narrative', 'unfolds', 'across', 'century', ',', 'tracing', 'evolution', 'transportation', 'humble', 'beginning', 'complex', ',', 'interconnected', 'network', 'road', 'vehicle', 'define', 'modern', 'society', '.', 'concept', 'self-propelled', 'vehicle', 'ha', 'root', 'dating', 'back', 'antiquity', ',', 'early', 'experiment', 'involving', 'steam-powered', 'machine', '17th', 'century', '.', 'however', ',', 'wa', \"n't\", 'late', '19th', 'early', '20th', 'century', 'automobile', 'know', 'began', 'take', 'shape', '.', 'karl', 'benz', \"'s\", 'creation', 'first', 'practical', 'automobile', '1885', ',', 'featuring', 'gasoline-powered', 'internal', 'combustion', 'engine', ',', 'marked', 'significant', 'milestone', 'automotive', 'history', '.', 'invention', 'paved', 'way', 'mass', 'production', 'car', ',', 'feat', 'achieved', 'company', 'like', 'ford', 'introduction', 'assembly', 'line', 'manufacturing', 'technique', '1913.', 'widespread', 'adoption', 'automobile', 'revolutionized', 'transportation', ',', 'facilitating', 'unprecedented', 'mobility', 'connectivity', 'people', 'place', '.', 'throughout', '20th', 'century', ',', 'car', 'continued', 'evolve', 'advancement', 'technology', ',', 'design', ',', 'safety', 'feature', ',', 'becoming', 'integral', 'daily', 'life', 'reshaping', 'urban', 'landscape', '.', 'model', 'electric', 'vehicle', '21st', 'century', ',', 'car', 'played', 'central', 'role', 'shaping', 'economy', ',', 'culture', ',', 'lifestyle', 'around', 'world', '.']\n",
      "['history', 'motorcycle', 'unfolds', 'vibrant', 'tapestry', 'innovation', ',', 'speed', ',', 'adventure', 'span', 'century', '.', 'genesis', 'motorcycle', 'traced', 'back', 'mid-19th', 'century', ',', 'inventor', 'experimented', 'attaching', 'engine', 'bicycle', ',', 'giving', 'rise', 'crude', ',', 'motorized', 'contraption', '.', '1885', ',', 'gottlieb', 'daimler', 'wilhelm', 'maybach', 'achieved', 'breakthrough', 'creation', 'first', 'true', 'motorcycle', ',', 'daimler', 'reitwagen', ',', 'powered', 'gasoline', 'engine', '.', 'pioneering', 'machine', 'laid', 'groundwork', 'subsequent', 'development', 'motorcycle', 'design', 'engineering', '.', 'throughout', 'late', '19th', 'early', '20th', 'century', ',', 'motorcycle', 'manufacturer', 'like', 'harley-davidson', ',', 'indian', ',', 'triumph', 'emerged', ',', 'producing', 'iconic', 'model', 'captured', 'imagination', 'rider', 'worldwide', '.', 'motorcycle', 'became', 'synonymous', 'freedom', ',', 'rebellion', ',', 'thrill', 'open', 'road', ',', 'attracting', 'enthusiast', 'embraced', 'exhilaration', 'two-wheeled', 'adventure', '.', 'post-war', 'era', ',', 'motorcycle', 'culture', 'flourished', ',', 'returning', 'veteran', 'seeking', 'camaraderie', 'excitement', 'riding', '.', 'decade', ',', 'motorcycle', 'evolved', 'advance', 'technology', ',', 'resulting', 'diverse', 'array', 'style', 'model', ',', 'sleek', 'sport', 'bike', 'rugged', 'cruiser', 'custom', 'chopper', '.', 'today', ',', 'motorcycle', 'continue', 'inspire', 'passion', 'excitement', 'among', 'rider', 'age', ',', 'embodying', 'spirit', 'freedom', ',', 'individuality', ',', 'exploration', '.']\n"
     ]
    }
   ],
   "source": [
    "# remove stopwords\n",
    "stop_words = set(stopwords.words('english'))\n",
    "tokens1 = [token for token in tokens1 if token not in stop_words]\n",
    "tokens2 = [token for token in tokens2 if token not in stop_words]\n",
    "print(tokens1)\n",
    "print(tokens2)"
   ]
  },
  {
   "cell_type": "code",
   "execution_count": 6,
   "metadata": {},
   "outputs": [
    {
     "name": "stdout",
     "output_type": "stream",
     "text": [
      "149\n",
      "160\n"
     ]
    }
   ],
   "source": [
    "print(len(tokens1))\n",
    "print(len(tokens2))"
   ]
  },
  {
   "cell_type": "code",
   "execution_count": 7,
   "metadata": {},
   "outputs": [],
   "source": [
    "# Remove punctuations\n",
    "import string\n",
    "tokens1 = [token for token in tokens1 if token not in string.punctuation]\n",
    "tokens2 = [token for token in tokens2 if token not in string.punctuation]"
   ]
  },
  {
   "cell_type": "code",
   "execution_count": 8,
   "metadata": {},
   "outputs": [
    {
     "name": "stdout",
     "output_type": "stream",
     "text": [
      "127\n",
      "127\n"
     ]
    }
   ],
   "source": [
    "print(len(tokens1))\n",
    "print(len(tokens2))"
   ]
  },
  {
   "cell_type": "code",
   "execution_count": 9,
   "metadata": {},
   "outputs": [],
   "source": [
    "# vectorize the tokens\n",
    "vectorizer = TfidfVectorizer()\n",
    "vectors = vectorizer.fit_transform([text1, text2])\n",
    "#vector1 = vectorizer.fit_transform([' '.join(tokens1)])\n",
    "#vector2 = vectorizer.fit([' '.join(tokens2)])\n",
    "vector1 = vectors[0]\n",
    "vector2 = vectors[1]"
   ]
  },
  {
   "cell_type": "code",
   "execution_count": 10,
   "metadata": {},
   "outputs": [
    {
     "name": "stdout",
     "output_type": "stream",
     "text": [
      "Cosine Similarity:  0.6508009939293828\n"
     ]
    }
   ],
   "source": [
    "# cosine similarity\n",
    "cosine_sim = cosine_similarity(vector1, vector2)[0][0]\n",
    "print(\"Cosine Similarity: \", cosine_sim)"
   ]
  },
  {
   "cell_type": "code",
   "execution_count": 11,
   "metadata": {},
   "outputs": [
    {
     "name": "stdout",
     "output_type": "stream",
     "text": [
      "Levenshtein Distance: 126\n"
     ]
    }
   ],
   "source": [
    "# levenshtein distance\n",
    "import Levenshtein\n",
    "lev_distance = Levenshtein.distance(tokens1,tokens2)\n",
    "print(\"Levenshtein Distance:\", lev_distance)"
   ]
  },
  {
   "cell_type": "code",
   "execution_count": 12,
   "metadata": {},
   "outputs": [
    {
     "name": "stdout",
     "output_type": "stream",
     "text": [
      "Jaccard Index: 0.09956709956709953\n"
     ]
    }
   ],
   "source": [
    "# jaccard index\n",
    "import textdistance\n",
    "jaccard_index = textdistance.jaccard.normalized_similarity(tokens1, tokens2)\n",
    "print(\"Jaccard Index:\", jaccard_index)"
   ]
  },
  {
   "cell_type": "code",
   "execution_count": 17,
   "metadata": {},
   "outputs": [
    {
     "name": "stdout",
     "output_type": "stream",
     "text": [
      "Euclidean Distance:  0.8357021072973521\n"
     ]
    }
   ],
   "source": [
    "# euclidean distance\n",
    "import numpy\n",
    "euclidean_distance = numpy.linalg.norm(vector1.toarray() - vector2.toarray())\n",
    "print(\"Euclidean Distance: \", euclidean_distance)"
   ]
  },
  {
   "cell_type": "code",
   "execution_count": 18,
   "metadata": {},
   "outputs": [
    {
     "name": "stdout",
     "output_type": "stream",
     "text": [
      "Hamming Distance:  0.007874015748031482\n"
     ]
    }
   ],
   "source": [
    "# hamming distance\n",
    "hamming_distance = textdistance.hamming.normalized_similarity(tokens1, tokens2)\n",
    "print(\"Hamming Distance: \", hamming_distance)"
   ]
  },
  {
   "cell_type": "markdown",
   "metadata": {},
   "source": [
    "1. I have tried the same measures with a bunch of different documents of varying sizes (20 - 250).\n",
    "2. The similarity scores seems to vary with the inclusion and exclusion of punctuations, but I don't think that will be the case in all the situations."
   ]
  },
  {
   "cell_type": "markdown",
   "metadata": {},
   "source": []
  }
 ],
 "metadata": {
  "kernelspec": {
   "display_name": "Python 3",
   "language": "python",
   "name": "python3"
  },
  "language_info": {
   "codemirror_mode": {
    "name": "ipython",
    "version": 3
   },
   "file_extension": ".py",
   "mimetype": "text/x-python",
   "name": "python",
   "nbconvert_exporter": "python",
   "pygments_lexer": "ipython3",
   "version": "3.12.1"
  }
 },
 "nbformat": 4,
 "nbformat_minor": 2
}
