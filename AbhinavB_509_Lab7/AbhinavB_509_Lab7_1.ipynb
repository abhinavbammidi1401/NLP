{
 "cells": [
  {
   "cell_type": "code",
   "execution_count": 6,
   "metadata": {},
   "outputs": [
    {
     "name": "stdout",
     "output_type": "stream",
     "text": [
      "Cosine Similarity: 0.9482676665421523\n",
      "Jaccard Similarity: 0.5822784810126582\n"
     ]
    }
   ],
   "source": [
    "from sklearn.feature_extraction.text import CountVectorizer\n",
    "from sklearn.metrics.pairwise import cosine_similarity\n",
    "from nltk.metrics import jaccard_distance\n",
    "\n",
    "doc1 = \"Rotary engines, also known as Wankel engines, represent a fascinating chapter in automotive engineering history. Unlike traditional piston engines, rotary engines feature a unique design characterized by a triangular rotor that rotates within an epitrochoidal chamber. This innovative configuration allows for continuous and smooth rotary motion, eliminating the reciprocating motion found in conventional engines. One of the most notable advantages of rotary engines is their compact size and lightweight nature. Due to their simplified design and fewer moving parts, rotary engines offer a high power-to-weight ratio, making them ideal for applications where space and weight are critical factors, such as aviation and racing. Moreover, rotary engines are known for their exceptional power delivery and smooth operation. The absence of reciprocating parts results in reduced vibration and noise, providing a refined driving experience. Additionally, the inherent balance of rotary engines contributes to their reliability and longevity. Despite these advantages, rotary engines also have their challenges. Historically, they have struggled with issues related to fuel efficiency and emissions, particularly at low speeds and idle conditions. Furthermore, sealing the combustion chambers effectively has posed engineering challenges, leading to concerns about oil consumption and emissions control. Nevertheless, rotary engines continue to captivate enthusiasts and engineers alike with their unique characteristics and potential for innovation. From iconic sports cars like the Mazda RX-7 to experimental aircraft and motorcycles, rotary engines have left an indelible mark on the world of transportation, sparking curiosity and pushing the boundaries of what is possible in engine design. As technology evolves and environmental concerns drive the search for more efficient and sustainable propulsion systems, the legacy of rotary engines remains a testament to the ingenuity and creativity of automotive pioneers.\"\n",
    "doc2 = \"Rotary engines, also recognized as Wankel engines, stand as an intriguing segment in the history of automotive engineering. Unlike conventional piston engines, rotary engines feature a distinct design characterized by a triangular rotor rotating within an epitrochoidal chamber. This distinctive layout enables seamless and continual rotary motion, eliminating the back-and-forth motion seen in traditional engines. One of the most notable benefits of rotary engines is their compact size and lightweight construction. Thanks to their simplified design and fewer moving components, rotary engines boast a high power-to-weight ratio, making them well-suited for scenarios where space and weight are crucial, such as in aviation and motorsports. Furthermore, rotary engines are renowned for their smooth power delivery and operation. With no reciprocating parts, they produce minimal vibration and noise, resulting in a refined driving experience. Additionally, the inherent balance of rotary engines enhances their reliability and durability. However, rotary engines also face challenges. Historically, they have grappled with issues related to fuel efficiency and emissions, particularly during low-speed and idle conditions. Additionally, effectively sealing the combustion chambers has posed engineering obstacles, raising concerns about oil consumption and emissions control. Despite these challenges, rotary engines continue to captivate enthusiasts and engineers with their unique attributes and potential for innovation. From iconic sports cars like the Mazda RX-7 to experimental aircraft and motorcycles, rotary engines have made a lasting impact on transportation, inspiring curiosity and pushing the boundaries of engine design. As technology advances and environmental concerns drive the quest for more efficient and sustainable propulsion systems, the legacy of rotary engines endures as a testament to the creativity and ingenuity of automotive visionaries.\"\n",
    "\n",
    "vectorizer = CountVectorizer().fit([doc1, doc2])\n",
    "vectorized_docs = vectorizer.transform([doc1, doc2])\n",
    "\n",
    "cosine_sim = cosine_similarity(vectorized_docs)\n",
    "print(\"Cosine Similarity:\", cosine_sim[0, 1])\n",
    "\n",
    "doc1_tokens = set(doc1.split())\n",
    "doc2_tokens = set(doc2.split())\n",
    "jaccard_sim = 1 - jaccard_distance(set(doc1_tokens), set(doc2_tokens))\n",
    "print(\"Jaccard Similarity:\", jaccard_sim)"
   ]
  },
  {
   "cell_type": "code",
   "execution_count": null,
   "metadata": {},
   "outputs": [],
   "source": []
  }
 ],
 "metadata": {
  "kernelspec": {
   "display_name": "Python 3",
   "language": "python",
   "name": "python3"
  },
  "language_info": {
   "codemirror_mode": {
    "name": "ipython",
    "version": 3
   },
   "file_extension": ".py",
   "mimetype": "text/x-python",
   "name": "python",
   "nbconvert_exporter": "python",
   "pygments_lexer": "ipython3",
   "version": "3.11.5"
  }
 },
 "nbformat": 4,
 "nbformat_minor": 2
}
