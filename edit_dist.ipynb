{
 "cells": [
  {
   "cell_type": "markdown",
   "metadata": {},
   "source": [
    "Edit Distance Using Dynamic Programming (Bottom-Up Approach):\n",
    "Use a table to store solutions of subproblems to avoiding recalculate the same subproblems multiple times. By doing this, if same subproblems repeated during, we retrieve the solutions from the table itself.\n",
    "\n",
    "Below are the steps to convert the recursive approach to Bottom up approach:\n",
    "\n",
    "1. Choosing Dimensions of Table: The state of smaller sub-problems depends on the input parameters m and n because at least one of them will decrease after each recursive call. So we need to construct a 2D table dp[][] to store the solution of the sub-problems.\n",
    "\n",
    "2. Choosing Correct size of Table: The size of the 2D table will be equal to the total number of different subproblems, which is equal to (m + 1)*(n + 1). As both m and n are decreasing by 1 during the recursive calls and reaching the value 0. So m + 1 possibilities for the first parameter and n + 1 possibilities for the second parameter. Total number of possible subproblems = (m + 1)*(n + 1).\n",
    "\n",
    "3. Filling the table: It consist of two stages, table initialization and building the solution from the smaller subproblems:\n",
    "\n",
    "- Table initialization: Before building the solution, we need to initialize the table with the smaller version of the solution i.e. base case. Here m = 0 and n = 0 is the situation of the base case, so we initialize first-column dp[i][0] with i and first-row dp[0][j] with j.\n",
    "- Building the solution of larger problems from the smaller subproblems: We can easily define the iterative structure by using the recursive structure of the above recursive solution. if (str1[i – 1] == str2[j – 1]) dp[i][j] = dp[i – 1][j – 1];\n",
    "if (str1[i – 1] != str2[j – 1]) dp[i][j] = 1 + min(dp[i][j – 1], dp[i – 1][j], dp[i – 1][j – 1]);\n",
    "4. Returning final solution: After filling the table iteratively, our final solution gets stored at the bottom right corner of the 2-D table i.e. we return Edit[m][n] as an output.\n",
    "\n",
    "Below is the implementation of the above algorithm:"
   ]
  },
  {
   "cell_type": "code",
   "execution_count": 1,
   "metadata": {},
   "outputs": [
    {
     "name": "stdout",
     "output_type": "stream",
     "text": [
      "6\n"
     ]
    }
   ],
   "source": [
    "# a dynamic programming based python program for edit\n",
    "# distance problem\n",
    "\n",
    "def editDistDP(str1, str2, m, n):\n",
    "    # create a table to store results of subproblems\n",
    "    dp = [[0 for x in range(n + 1)] for x in range(m + 1)]\n",
    "    \n",
    "    # fill d[][] in bottom up manner\n",
    "    for i in range(m + 1):\n",
    "        for j in range(n + 1):\n",
    "            \n",
    "            # if first string is empty, only option is to \n",
    "            # insert all characters of second string\n",
    "            if i == 0:\n",
    "                dp[i][j] = j # min. operations = j\n",
    "            \n",
    "            # if second string is empty, only option is to\n",
    "            # remove all characters of second string\n",
    "            elif j == 0:\n",
    "                dp[i][j] = i # min. operations = i\n",
    "                \n",
    "            # if last characters are same,  ignore last char\n",
    "            # and recur for remaining string\n",
    "            elif str1[i-1] == str2[j-1]:\n",
    "                dp[i][j] = dp[i-1][j-1]\n",
    "                \n",
    "            # if last characters are different, consider all\n",
    "            # possibilities and finc maximum\n",
    "            else:\n",
    "                dp[i][j] = 1 + min(dp[i][j-1],\n",
    "                                   dp[i-1][j],\n",
    "                                   dp[i-1][j-1])\n",
    "    return dp[m][n]\n",
    "\n",
    "# driver code\n",
    "str1 = \"Abhinav\"\n",
    "str2 = \"ABHINAV\"\n",
    "\n",
    "print(editDistDP(str1, str2, len(str1), len(str2)))"
   ]
  },
  {
   "cell_type": "code",
   "execution_count": null,
   "metadata": {},
   "outputs": [],
   "source": []
  }
 ],
 "metadata": {
  "kernelspec": {
   "display_name": "Python 3",
   "language": "python",
   "name": "python3"
  },
  "language_info": {
   "codemirror_mode": {
    "name": "ipython",
    "version": 3
   },
   "file_extension": ".py",
   "mimetype": "text/x-python",
   "name": "python",
   "nbconvert_exporter": "python",
   "pygments_lexer": "ipython3",
   "version": "3.11.5"
  }
 },
 "nbformat": 4,
 "nbformat_minor": 2
}
