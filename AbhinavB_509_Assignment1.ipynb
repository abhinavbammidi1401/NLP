{
 "cells": [
  {
   "cell_type": "markdown",
   "metadata": {},
   "source": [
    "**Start your engines.**"
   ]
  },
  {
   "cell_type": "code",
   "execution_count": 2,
   "metadata": {},
   "outputs": [],
   "source": [
    "import nltk\n",
    "import warnings\n",
    "warnings.filterwarnings(\"ignore\")"
   ]
  },
  {
   "cell_type": "markdown",
   "metadata": {},
   "source": [
    "**Read the input from a text file**"
   ]
  },
  {
   "cell_type": "code",
   "execution_count": 3,
   "metadata": {},
   "outputs": [],
   "source": [
    "f = open('sample.txt','r',encoding='utf8')\n",
    "raw = f.read()"
   ]
  },
  {
   "cell_type": "markdown",
   "metadata": {},
   "source": [
    "**What is tokenization?**\n",
    "Tokenization is a process of converting the given text, whether a sentence or file, into smaller parts. It can be words, sentences and many other criteria."
   ]
  },
  {
   "cell_type": "markdown",
   "metadata": {},
   "source": [
    "**Word Tokenization**: Tokenizes based on words"
   ]
  },
  {
   "cell_type": "code",
   "execution_count": 4,
   "metadata": {},
   "outputs": [
    {
     "name": "stdout",
     "output_type": "stream",
     "text": [
      "\n",
      "Word Tokenizer:\n",
      "['This', 'is', 'a', 'paragraph', 'on', 'how', 'i', 'got', 'into', 'automobiles', '.', 'I', 'actually', 'wanted', 'to', 'become', 'an', 'airforce', 'pilot', '.', 'I', 'was', 'very', 'much', 'into', 'speed', 'and', 'going', 'fast', 'and', 'al', 'that', 'kind', 'of', 'stuff', '.', 'But', 'there', 'was', 'one', 'issue', ',', 'finance', '.', 'My', 'parents', 'were', \"n't\", 'able', 'to', 'afford', ',', 'at', 'that', 'time', '.', 'If', 'I', 'wanted', 'to', 'do', 'it', 'now', ',', 'they', 'would', \"'ve\", 'been', 'able', 'to', 'afford', '.', '❤️❤️❤️❤️❤️❤️❤️❤️😒😒😒😒😒😒😒😍😍😍😍😍👌👌🤣🙌🙌🎶🎶🎶', 'Okay', ',', 'let', \"'s\", 'get', 'back', 'on', 'track', ',', 'I', 'like', 'the', 'feeling', 'of', 'speed', '.', 'Feeling', 'that', 'wind', 'in', 'your', 'hair', 'is', 'a', 'different', 'kind', 'of', 'feeling', '.', 'I', 'used', 'to', 'ask', 'my', 'dad', 'to', 'take', 'me', 'on', 'bike', 'rides', 'just', 'to', 'experience', 'that', 'feeling', '.', 'And', 'what', 'was', 'the', 'next', 'best', 'thing', 'if', 'you', 'could', \"n't\", 'become', 'a', 'pilot', '.', 'Bikes', ',', 'and', 'Cars', '.', 'That', \"'s\", 'how', 'I', 'got', 'into', 'them', '.', 'Basically', ',', 'gotten', 'addicted', 'to', 'them', '.', 'And', 'I', \"'m\", 'so', 'familiar', 'with', 'them', 'that', 'I', 'can', 'identify', 'what', 'kind', 'of', 'car/bike', 'it', 'is', 'just', 'by', 'the', 'exhaust', 'notes', '.', 'A', 'lot', 'of', 'people', 'called', 'me', 'a', 'kid', 'for', 'that', '.', 'I', 'mean', 'I', 'get', 'it', ',', 'I', 'kind', 'of', 'become', 'a', 'kid', ',', 'when', 'I', \"'m\", 'around', 'cars', 'or', 'bikes', '.', 'I', 'can', 'talk', 'hours', 'and', 'hours', 'about', 'them', ',', 'describing', 'all', 'kinds', 'of', 'engines', ',', 'engine', 'configurations', ',', 'different', 'components', ',', 'brands', 'and', 'their', 'history', '.', 'If', 'you', 'were', 'to', 'ask', 'me', 'what', 'my', 'dream', 'garge', 'would', 'include', ',', 'it', 'would', 'something', 'like', ',', 'a', 'Ducati', 'Panigale', 'V4R', ',', '2018', 'Kawasaki', 'Ninja', 'ZX-10R', '(', 'the', 'older', 'one', ')', ',', 'a', 'Porsche', '991.2', 'GT3', 'RS', 'Weissach', 'and', 'a', 'Lamborghini', 'Huracan', 'Performante', '.', 'That', 'would', 'be', 'my', 'perfect', 'garage', ',', 'and', 'If', 'i', 'were', 'to', 'include', 'a', 'few', 'garage', 'queens', ',', 'then', 'a', 'Royal', 'Enfield', 'Continental', 'GT650', 'in', 'Mr.', 'Clean', 'and', 'a', 'Porsche', '930', 'Turbo', 'from', 'the', 'early', '90s', \"'\", ',', 'famously', 'known', 'as', '``', 'The', 'Widowmaker', \"''\", '.', 'Going', 'back', 'to', 'the', 'point', 'of', 'why', 'I', 'like', 'automobiles', ',', 'if', 'I', 'have', 'to', 'be', 'brutally', 'honest', 'about', 'it', ',', 'I', 'know', 'I', 'like', 'the', 'feeling', 'of', 'speed', ',', 'and', 'how', 'giddy', 'it', 'makes', 'me', 'to', 'go', 'a', '120kmph', 'on', 'the', 'highway', ',', 'or', 'that', 'feeling', 'of', '``', 'Oh', 'my', 'god', ',', 'I', 'was', 'about', 'to', 'die', '!', \"''\", 'when', 'you', 'save', 'yourself', 'from', 'an', 'accident', ',', 'and', 'all', '.', 'All', 'of', 'these', 'are', 'good', 'and', 'amazing', ',', 'but', 'I', \"'ll\", 'tell', 'you', 'what', 'I', 'think', '.', 'It', \"'s\", 'just', 'basic', 'human', 'instinct', '.', 'That', 'thirst', 'of', 'humans', 'to', 'tame', 'things', 'that', 'we', 'ca', \"n't\", 'control', '.', 'History', 'has', 'shown', 'us', 'that', 'whenever', 'there', 'is', 'something', 'that', 'people', 'say', 'ca', \"n't\", 'be', 'done', ',', 'there', 'will', 'always', 'be', 'someone', 'who', 'says', '``', 'Well', ',', 'why', 'ca', \"n't\", 'you', '?', \"''\", 'and', 'then', 'proceeds', 'to', 'do', 'it', ',', 'and', 'break', 'all', 'the', 'stereotypes', ',', 'and', 'the', 'words', 'of', 'those', 'people', 'who', 'said', 'so', '.', 'And', 'that', 'is', 'where', 'this', 'comes', 'from', '.', 'This', 'thirst', '.', 'That', 'idea', '.', 'The', 'idea', 'of', 'a', 'machine', 'that', 'could', 'go', '300+', 'kmph', 'on', 'a', 'single', 'wheel', '.', 'The', 'idea', 'of', 'a', 'machine', 'that', 'weighs', 'less', 'than', 'a', 'horse', ',', 'but', 'has', 'more', '200', 'horsepower', '.', 'A', 'machine', 'that', 'lifts', 'up', 'it', \"'s\", 'front', 'wheel', 'like', 'it', 'does', \"n't\", 'have', 'one', '.', 'A', 'Mahcine', 'that', 'could', 'kill', 'you', 'faster', 'than', 'you', 'could', 'even', 'think', 'about', 'how', 'to', 'control', 'it', '.', 'If', 'that', 'machine', 'can', 'do', 'all', 'of', 'this', ',', 'it', \"'s\", 'not', 'a', 'machine', ',', 'it', \"'s\", 'a', 'living', 'thing', '.', 'A', 'beast', '.', 'A', 'beast', 'with', 'a', 'beating', 'heart', '.', 'One', 'that', 'drinks', 'fuel', ',', 'breathes', 'fires', 'and', 'roars', 'like', 'a', 'beast', '.', 'That', 'is', 'what', 'drive', 'me', '.', 'That', 'is', 'what', 'I', 'like', 'about', 'them', '.', 'That', 'close-to-death', 'feeling', '.', 'That', 'is', 'what', 'I', 'want', '.', 'That', 'is', 'what', 'makes', 'me', 'feel', 'alive', '.']\n"
     ]
    }
   ],
   "source": [
    "print(\"\\nWord Tokenizer:\")\n",
    "words = nltk.word_tokenize(raw)\n",
    "print(words)"
   ]
  },
  {
   "cell_type": "markdown",
   "metadata": {},
   "source": [
    "**Sentence Tokenization**: Tokenizes based on sentences"
   ]
  },
  {
   "cell_type": "code",
   "execution_count": 5,
   "metadata": {},
   "outputs": [
    {
     "name": "stdout",
     "output_type": "stream",
     "text": [
      "\n",
      "Sentence Tokenizer:\n",
      "['This is a paragraph on how i got into automobiles.', 'I actually wanted to become an airforce pilot.', 'I was very much into speed and going fast and al that kind of stuff.', 'But there was one issue, finance.', \"My parents weren't able to afford, at that time.\", \"If I wanted to do it now, they would've been able to afford.\", \"❤️❤️❤️❤️❤️❤️❤️❤️😒😒😒😒😒😒😒😍😍😍😍😍👌👌🤣🙌🙌🎶🎶🎶 Okay, let's get back on track, I like the feeling of speed.\", 'Feeling that wind in your hair is a different kind of feeling.', 'I used to ask my dad to take me on bike rides just to experience that feeling.', \"And what was the next best thing if you couldn't become a pilot.\", 'Bikes, and Cars.', \"That's how I got into them.\", 'Basically, gotten addicted to them.', \"And I'm so familiar with them that I can identify what kind of car/bike it is just by the exhaust notes.\", 'A lot of people called me a kid for that.', \"I mean I get it, I kind of become a kid, when I'm around cars or bikes.\", 'I can talk hours and hours about them, describing all kinds of engines, engine configurations, different components, brands and their history.', 'If you were to ask me what my dream garge would include, it would something like, a Ducati Panigale V4R, 2018 Kawasaki Ninja ZX-10R (the older one), a Porsche 991.2 GT3 RS Weissach and a Lamborghini Huracan Performante.', 'That would be my perfect garage, and If i were to include a few garage queens, then a Royal Enfield Continental GT650 in Mr. Clean and a Porsche 930 Turbo from the early 90s\\', famously known as \"The Widowmaker\".', 'Going back to the point of why I like automobiles, if I have to be brutally honest about it, I know I like the feeling of speed, and how giddy it makes me to go a 120kmph on the highway, or that feeling of \"Oh my god, I was about to die!\"', 'when you save yourself  from an accident, and all.', \"All of these are good and amazing, but I'll tell you what I think.\", \"It's just basic human instinct.\", \"That thirst of humans to tame things that we can't control.\", 'History has shown us that whenever there is something that people say can\\'t be done, there will always be someone who says \"Well, why can\\'t you?\"', 'and then proceeds to do it, and break all the stereotypes, and the words of those people who said so.', 'And that is where this comes from.', 'This thirst.', 'That idea.', 'The idea of a machine that could go 300+ kmph on a single wheel.', 'The idea of a machine that weighs less than a horse, but has more 200 horsepower.', \"A machine that lifts up it's front wheel like it doesn't have one.\", 'A Mahcine that could kill you faster than you could even think about how to control it.', \"If that machine can do all of this, it's not a machine, it's a living thing.\", 'A beast.', 'A beast with a beating heart.', 'One that drinks fuel, breathes fires and roars like a beast.', 'That is what drive me.', 'That is what I like about them.', 'That close-to-death feeling.', 'That is what I want.', 'That is what makes me feel alive.']\n"
     ]
    }
   ],
   "source": [
    "print(\"\\nSentence Tokenizer:\")\n",
    "sent_tokens = nltk.sent_tokenize(raw)\n",
    "print(sent_tokens)"
   ]
  },
  {
   "cell_type": "code",
   "execution_count": 6,
   "metadata": {},
   "outputs": [
    {
     "name": "stdout",
     "output_type": "stream",
     "text": [
      "\n",
      "Punctuation-based Tokenizer:\n",
      "['This', 'is', 'a', 'paragraph', 'on', 'how', 'i', 'got', 'into', 'automobiles', '.', 'I', 'actually', 'wanted', 'to', 'become', 'an', 'airforce', 'pilot', '.', 'I', 'was', 'very', 'much', 'into', 'speed', 'and', 'going', 'fast', 'and', 'al', 'that', 'kind', 'of', 'stuff', '.', 'But', 'there', 'was', 'one', 'issue', ',', 'finance', '.', 'My', 'parents', 'weren', \"'\", 't', 'able', 'to', 'afford', ',', 'at', 'that', 'time', '.', 'If', 'I', 'wanted', 'to', 'do', 'it', 'now', ',', 'they', 'would', \"'\", 've', 'been', 'able', 'to', 'afford', '.', '❤', '️', '❤', '️', '❤', '️', '❤', '️', '❤', '️', '❤', '️', '❤', '️', '❤', '️', '😒', '😒', '😒', '😒', '😒', '😒', '😒', '😍', '😍', '😍', '😍', '😍', '👌', '👌', '🤣', '🙌', '🙌', '🎶', '🎶', '🎶', 'Okay', ',', 'let', \"'\", 's', 'get', 'back', 'on', 'track', ',', 'I', 'like', 'the', 'feeling', 'of', 'speed', '.', 'Feeling', 'that', 'wind', 'in', 'your', 'hair', 'is', 'a', 'different', 'kind', 'of', 'feeling', '.', 'I', 'used', 'to', 'ask', 'my', 'dad', 'to', 'take', 'me', 'on', 'bike', 'rides', 'just', 'to', 'experience', 'that', 'feeling', '.', 'And', 'what', 'was', 'the', 'next', 'best', 'thing', 'if', 'you', 'couldn', \"'\", 't', 'become', 'a', 'pilot', '.', 'Bikes', ',', 'and', 'Cars', '.', 'That', \"'\", 's', 'how', 'I', 'got', 'into', 'them', '.', 'Basically', ',', 'gotten', 'addicted', 'to', 'them', '.', 'And', 'I', \"'\", 'm', 'so', 'familiar', 'with', 'them', 'that', 'I', 'can', 'identify', 'what', 'kind', 'of', 'car', '/', 'bike', 'it', 'is', 'just', 'by', 'the', 'exhaust', 'notes', '.', 'A', 'lot', 'of', 'people', 'called', 'me', 'a', 'kid', 'for', 'that', '.', 'I', 'mean', 'I', 'get', 'it', ',', 'I', 'kind', 'of', 'become', 'a', 'kid', ',', 'when', 'I', \"'\", 'm', 'around', 'cars', 'or', 'bikes', '.', 'I', 'can', 'talk', 'hours', 'and', 'hours', 'about', 'them', ',', 'describing', 'all', 'kinds', 'of', 'engines', ',', 'engine', 'configurations', ',', 'different', 'components', ',', 'brands', 'and', 'their', 'history', '.', 'If', 'you', 'were', 'to', 'ask', 'me', 'what', 'my', 'dream', 'garge', 'would', 'include', ',', 'it', 'would', 'something', 'like', ',', 'a', 'Ducati', 'Panigale', 'V4R', ',', '2018', 'Kawasaki', 'Ninja', 'ZX', '-', '10R', '(', 'the', 'older', 'one', ')', ',', 'a', 'Porsche', '991', '.', '2', 'GT3', 'RS', 'Weissach', 'and', 'a', 'Lamborghini', 'Huracan', 'Performante', '.', 'That', 'would', 'be', 'my', 'perfect', 'garage', ',', 'and', 'If', 'i', 'were', 'to', 'include', 'a', 'few', 'garage', 'queens', ',', 'then', 'a', 'Royal', 'Enfield', 'Continental', 'GT650', 'in', 'Mr', '.', 'Clean', 'and', 'a', 'Porsche', '930', 'Turbo', 'from', 'the', 'early', '90s', \"'\", ',', 'famously', 'known', 'as', '\"', 'The', 'Widowmaker', '\"', '.', 'Going', 'back', 'to', 'the', 'point', 'of', 'why', 'I', 'like', 'automobiles', ',', 'if', 'I', 'have', 'to', 'be', 'brutally', 'honest', 'about', 'it', ',', 'I', 'know', 'I', 'like', 'the', 'feeling', 'of', 'speed', ',', 'and', 'how', 'giddy', 'it', 'makes', 'me', 'to', 'go', 'a', '120kmph', 'on', 'the', 'highway', ',', 'or', 'that', 'feeling', 'of', '\"', 'Oh', 'my', 'god', ',', 'I', 'was', 'about', 'to', 'die', '!', '\"', 'when', 'you', 'save', 'yourself', 'from', 'an', 'accident', ',', 'and', 'all', '.', 'All', 'of', 'these', 'are', 'good', 'and', 'amazing', ',', 'but', 'I', \"'\", 'll', 'tell', 'you', 'what', 'I', 'think', '.', 'It', \"'\", 's', 'just', 'basic', 'human', 'instinct', '.', 'That', 'thirst', 'of', 'humans', 'to', 'tame', 'things', 'that', 'we', 'can', \"'\", 't', 'control', '.', 'History', 'has', 'shown', 'us', 'that', 'whenever', 'there', 'is', 'something', 'that', 'people', 'say', 'can', \"'\", 't', 'be', 'done', ',', 'there', 'will', 'always', 'be', 'someone', 'who', 'says', '\"', 'Well', ',', 'why', 'can', \"'\", 't', 'you', '?', '\"', 'and', 'then', 'proceeds', 'to', 'do', 'it', ',', 'and', 'break', 'all', 'the', 'stereotypes', ',', 'and', 'the', 'words', 'of', 'those', 'people', 'who', 'said', 'so', '.', 'And', 'that', 'is', 'where', 'this', 'comes', 'from', '.', 'This', 'thirst', '.', 'That', 'idea', '.', 'The', 'idea', 'of', 'a', 'machine', 'that', 'could', 'go', '300', '+', 'kmph', 'on', 'a', 'single', 'wheel', '.', 'The', 'idea', 'of', 'a', 'machine', 'that', 'weighs', 'less', 'than', 'a', 'horse', ',', 'but', 'has', 'more', '200', 'horsepower', '.', 'A', 'machine', 'that', 'lifts', 'up', 'it', \"'\", 's', 'front', 'wheel', 'like', 'it', 'doesn', \"'\", 't', 'have', 'one', '.', 'A', 'Mahcine', 'that', 'could', 'kill', 'you', 'faster', 'than', 'you', 'could', 'even', 'think', 'about', 'how', 'to', 'control', 'it', '.', 'If', 'that', 'machine', 'can', 'do', 'all', 'of', 'this', ',', 'it', \"'\", 's', 'not', 'a', 'machine', ',', 'it', \"'\", 's', 'a', 'living', 'thing', '.', 'A', 'beast', '.', 'A', 'beast', 'with', 'a', 'beating', 'heart', '.', 'One', 'that', 'drinks', 'fuel', ',', 'breathes', 'fires', 'and', 'roars', 'like', 'a', 'beast', '.', 'That', 'is', 'what', 'drive', 'me', '.', 'That', 'is', 'what', 'I', 'like', 'about', 'them', '.', 'That', 'close', '-', 'to', '-', 'death', 'feeling', '.', 'That', 'is', 'what', 'I', 'want', '.', 'That', 'is', 'what', 'makes', 'me', 'feel', 'alive', '.']\n"
     ]
    }
   ],
   "source": [
    "print(\"\\nPunctuation-based Tokenizer:\")\n",
    "print(nltk.tokenize.regexp_tokenize(raw, pattern='\\w+|[^\\w\\s]'))"
   ]
  },
  {
   "cell_type": "markdown",
   "metadata": {},
   "source": [
    "**Tree Bank Word Tokenization:** uses regular expressions to tokenize text"
   ]
  },
  {
   "cell_type": "code",
   "execution_count": 7,
   "metadata": {},
   "outputs": [
    {
     "name": "stdout",
     "output_type": "stream",
     "text": [
      "\n",
      "Treebank Word tokenizer:\n",
      "['This', 'is', 'a', 'paragraph', 'on', 'how', 'i', 'got', 'into', 'automobiles.', 'I', 'actually', 'wanted', 'to', 'become', 'an', 'airforce', 'pilot.', 'I', 'was', 'very', 'much', 'into', 'speed', 'and', 'going', 'fast', 'and', 'al', 'that', 'kind', 'of', 'stuff.', 'But', 'there', 'was', 'one', 'issue', ',', 'finance.', 'My', 'parents', 'were', \"n't\", 'able', 'to', 'afford', ',', 'at', 'that', 'time.', 'If', 'I', 'wanted', 'to', 'do', 'it', 'now', ',', 'they', 'would', \"'ve\", 'been', 'able', 'to', 'afford.', '❤️❤️❤️❤️❤️❤️❤️❤️😒😒😒😒😒😒😒😍😍😍😍😍👌👌🤣🙌🙌🎶🎶🎶', 'Okay', ',', 'let', \"'s\", 'get', 'back', 'on', 'track', ',', 'I', 'like', 'the', 'feeling', 'of', 'speed.', 'Feeling', 'that', 'wind', 'in', 'your', 'hair', 'is', 'a', 'different', 'kind', 'of', 'feeling.', 'I', 'used', 'to', 'ask', 'my', 'dad', 'to', 'take', 'me', 'on', 'bike', 'rides', 'just', 'to', 'experience', 'that', 'feeling.', 'And', 'what', 'was', 'the', 'next', 'best', 'thing', 'if', 'you', 'could', \"n't\", 'become', 'a', 'pilot.', 'Bikes', ',', 'and', 'Cars.', 'That', \"'s\", 'how', 'I', 'got', 'into', 'them.', 'Basically', ',', 'gotten', 'addicted', 'to', 'them.', 'And', 'I', \"'m\", 'so', 'familiar', 'with', 'them', 'that', 'I', 'can', 'identify', 'what', 'kind', 'of', 'car/bike', 'it', 'is', 'just', 'by', 'the', 'exhaust', 'notes.', 'A', 'lot', 'of', 'people', 'called', 'me', 'a', 'kid', 'for', 'that.', 'I', 'mean', 'I', 'get', 'it', ',', 'I', 'kind', 'of', 'become', 'a', 'kid', ',', 'when', 'I', \"'m\", 'around', 'cars', 'or', 'bikes.', 'I', 'can', 'talk', 'hours', 'and', 'hours', 'about', 'them', ',', 'describing', 'all', 'kinds', 'of', 'engines', ',', 'engine', 'configurations', ',', 'different', 'components', ',', 'brands', 'and', 'their', 'history.', 'If', 'you', 'were', 'to', 'ask', 'me', 'what', 'my', 'dream', 'garge', 'would', 'include', ',', 'it', 'would', 'something', 'like', ',', 'a', 'Ducati', 'Panigale', 'V4R', ',', '2018', 'Kawasaki', 'Ninja', 'ZX-10R', '(', 'the', 'older', 'one', ')', ',', 'a', 'Porsche', '991.2', 'GT3', 'RS', 'Weissach', 'and', 'a', 'Lamborghini', 'Huracan', 'Performante.', 'That', 'would', 'be', 'my', 'perfect', 'garage', ',', 'and', 'If', 'i', 'were', 'to', 'include', 'a', 'few', 'garage', 'queens', ',', 'then', 'a', 'Royal', 'Enfield', 'Continental', 'GT650', 'in', 'Mr.', 'Clean', 'and', 'a', 'Porsche', '930', 'Turbo', 'from', 'the', 'early', '90s', \"'\", ',', 'famously', 'known', 'as', '``', 'The', 'Widowmaker', \"''\", '.', 'Going', 'back', 'to', 'the', 'point', 'of', 'why', 'I', 'like', 'automobiles', ',', 'if', 'I', 'have', 'to', 'be', 'brutally', 'honest', 'about', 'it', ',', 'I', 'know', 'I', 'like', 'the', 'feeling', 'of', 'speed', ',', 'and', 'how', 'giddy', 'it', 'makes', 'me', 'to', 'go', 'a', '120kmph', 'on', 'the', 'highway', ',', 'or', 'that', 'feeling', 'of', '``', 'Oh', 'my', 'god', ',', 'I', 'was', 'about', 'to', 'die', '!', \"''\", 'when', 'you', 'save', 'yourself', 'from', 'an', 'accident', ',', 'and', 'all.', 'All', 'of', 'these', 'are', 'good', 'and', 'amazing', ',', 'but', 'I', \"'ll\", 'tell', 'you', 'what', 'I', 'think.', 'It', \"'s\", 'just', 'basic', 'human', 'instinct.', 'That', 'thirst', 'of', 'humans', 'to', 'tame', 'things', 'that', 'we', 'ca', \"n't\", 'control.', 'History', 'has', 'shown', 'us', 'that', 'whenever', 'there', 'is', 'something', 'that', 'people', 'say', 'ca', \"n't\", 'be', 'done', ',', 'there', 'will', 'always', 'be', 'someone', 'who', 'says', '``', 'Well', ',', 'why', 'ca', \"n't\", 'you', '?', \"''\", 'and', 'then', 'proceeds', 'to', 'do', 'it', ',', 'and', 'break', 'all', 'the', 'stereotypes', ',', 'and', 'the', 'words', 'of', 'those', 'people', 'who', 'said', 'so.', 'And', 'that', 'is', 'where', 'this', 'comes', 'from.', 'This', 'thirst.', 'That', 'idea.', 'The', 'idea', 'of', 'a', 'machine', 'that', 'could', 'go', '300+', 'kmph', 'on', 'a', 'single', 'wheel.', 'The', 'idea', 'of', 'a', 'machine', 'that', 'weighs', 'less', 'than', 'a', 'horse', ',', 'but', 'has', 'more', '200', 'horsepower.', 'A', 'machine', 'that', 'lifts', 'up', 'it', \"'s\", 'front', 'wheel', 'like', 'it', 'does', \"n't\", 'have', 'one.', 'A', 'Mahcine', 'that', 'could', 'kill', 'you', 'faster', 'than', 'you', 'could', 'even', 'think', 'about', 'how', 'to', 'control', 'it.', 'If', 'that', 'machine', 'can', 'do', 'all', 'of', 'this', ',', 'it', \"'s\", 'not', 'a', 'machine', ',', 'it', \"'s\", 'a', 'living', 'thing.', 'A', 'beast.', 'A', 'beast', 'with', 'a', 'beating', 'heart.', 'One', 'that', 'drinks', 'fuel', ',', 'breathes', 'fires', 'and', 'roars', 'like', 'a', 'beast.', 'That', 'is', 'what', 'drive', 'me.', 'That', 'is', 'what', 'I', 'like', 'about', 'them.', 'That', 'close-to-death', 'feeling.', 'That', 'is', 'what', 'I', 'want.', 'That', 'is', 'what', 'makes', 'me', 'feel', 'alive', '.']\n"
     ]
    }
   ],
   "source": [
    "print(\"\\nTreebank Word tokenizer:\")\n",
    "tokenizer = nltk.TreebankWordTokenizer()\n",
    "print(tokenizer.tokenize(raw))"
   ]
  },
  {
   "cell_type": "markdown",
   "metadata": {},
   "source": [
    "a. Word Tokenization\n",
    "b. Sentence Tokenization\n",
    "c. Punctuation-based Tokenizer\n",
    "d. Treebank Word tokenizer\n",
    "e. Tweet Tokenizer\n",
    "f. Multi-Word Expression Tokenizer\n",
    "g. TextBlob Word Tokenize\n",
    "h. spaCy Tokenizer\n",
    "i. Gensim word tokenizer\n",
    "j. Tokenization with Keras"
   ]
  },
  {
   "cell_type": "markdown",
   "metadata": {},
   "source": [
    "**Tweet Tokenizer:** NLTK has this special method called TweetTokenizer() that helps to tokenize Tweet Corpus into relevant tokens. The advantage of using TweetTokenizer() compared to regular word_tokenize is that, when processing tweets, we often come across emojis, hashtags that need to be handled differently."
   ]
  },
  {
   "cell_type": "code",
   "execution_count": 8,
   "metadata": {},
   "outputs": [
    {
     "name": "stdout",
     "output_type": "stream",
     "text": [
      "\n",
      "Tweet Tokenizer:\n",
      "['This', 'is', 'a', 'paragraph', 'on', 'how', 'i', 'got', 'into', 'automobiles', '.', 'I', 'actually', 'wanted', 'to', 'become', 'an', 'airforce', 'pilot', '.', 'I', 'was', 'very', 'much', 'into', 'speed', 'and', 'going', 'fast', 'and', 'al', 'that', 'kind', 'of', 'stuff', '.', 'But', 'there', 'was', 'one', 'issue', ',', 'finance', '.', 'My', 'parents', \"weren't\", 'able', 'to', 'afford', ',', 'at', 'that', 'time', '.', 'If', 'I', 'wanted', 'to', 'do', 'it', 'now', ',', 'they', \"would've\", 'been', 'able', 'to', 'afford', '.', '❤', '️', '❤', '️', '❤', '️', '❤', '️', '❤', '️', '❤', '️', '❤', '️', '❤', '️', '😒', '😒', '😒', '😍', '😍', '😍', '👌', '👌', '🤣', '🙌', '🙌', '🎶', '🎶', '🎶', 'Okay', ',', \"let's\", 'get', 'back', 'on', 'track', ',', 'I', 'like', 'the', 'feeling', 'of', 'speed', '.', 'Feeling', 'that', 'wind', 'in', 'your', 'hair', 'is', 'a', 'different', 'kind', 'of', 'feeling', '.', 'I', 'used', 'to', 'ask', 'my', 'dad', 'to', 'take', 'me', 'on', 'bike', 'rides', 'just', 'to', 'experience', 'that', 'feeling', '.', 'And', 'what', 'was', 'the', 'next', 'best', 'thing', 'if', 'you', \"couldn't\", 'become', 'a', 'pilot', '.', 'Bikes', ',', 'and', 'Cars', '.', \"That's\", 'how', 'I', 'got', 'into', 'them', '.', 'Basically', ',', 'gotten', 'addicted', 'to', 'them', '.', 'And', \"I'm\", 'so', 'familiar', 'with', 'them', 'that', 'I', 'can', 'identify', 'what', 'kind', 'of', 'car', '/', 'bike', 'it', 'is', 'just', 'by', 'the', 'exhaust', 'notes', '.', 'A', 'lot', 'of', 'people', 'called', 'me', 'a', 'kid', 'for', 'that', '.', 'I', 'mean', 'I', 'get', 'it', ',', 'I', 'kind', 'of', 'become', 'a', 'kid', ',', 'when', \"I'm\", 'around', 'cars', 'or', 'bikes', '.', 'I', 'can', 'talk', 'hours', 'and', 'hours', 'about', 'them', ',', 'describing', 'all', 'kinds', 'of', 'engines', ',', 'engine', 'configurations', ',', 'different', 'components', ',', 'brands', 'and', 'their', 'history', '.', 'If', 'you', 'were', 'to', 'ask', 'me', 'what', 'my', 'dream', 'garge', 'would', 'include', ',', 'it', 'would', 'something', 'like', ',', 'a', 'Ducati', 'Panigale', 'V4R', ',', '2018', 'Kawasaki', 'Ninja', 'ZX', '-', '10R', '(', 'the', 'older', 'one', ')', ',', 'a', 'Porsche', '991.2', 'GT3', 'RS', 'Weissach', 'and', 'a', 'Lamborghini', 'Huracan', 'Performante', '.', 'That', 'would', 'be', 'my', 'perfect', 'garage', ',', 'and', 'If', 'i', 'were', 'to', 'include', 'a', 'few', 'garage', 'queens', ',', 'then', 'a', 'Royal', 'Enfield', 'Continental', 'GT650', 'in', 'Mr', '.', 'Clean', 'and', 'a', 'Porsche', '930', 'Turbo', 'from', 'the', 'early', '90s', \"'\", ',', 'famously', 'known', 'as', '\"', 'The', 'Widowmaker', '\"', '.', 'Going', 'back', 'to', 'the', 'point', 'of', 'why', 'I', 'like', 'automobiles', ',', 'if', 'I', 'have', 'to', 'be', 'brutally', 'honest', 'about', 'it', ',', 'I', 'know', 'I', 'like', 'the', 'feeling', 'of', 'speed', ',', 'and', 'how', 'giddy', 'it', 'makes', 'me', 'to', 'go', 'a', '120kmph', 'on', 'the', 'highway', ',', 'or', 'that', 'feeling', 'of', '\"', 'Oh', 'my', 'god', ',', 'I', 'was', 'about', 'to', 'die', '!', '\"', 'when', 'you', 'save', 'yourself', 'from', 'an', 'accident', ',', 'and', 'all', '.', 'All', 'of', 'these', 'are', 'good', 'and', 'amazing', ',', 'but', \"I'll\", 'tell', 'you', 'what', 'I', 'think', '.', \"It's\", 'just', 'basic', 'human', 'instinct', '.', 'That', 'thirst', 'of', 'humans', 'to', 'tame', 'things', 'that', 'we', \"can't\", 'control', '.', 'History', 'has', 'shown', 'us', 'that', 'whenever', 'there', 'is', 'something', 'that', 'people', 'say', \"can't\", 'be', 'done', ',', 'there', 'will', 'always', 'be', 'someone', 'who', 'says', '\"', 'Well', ',', 'why', \"can't\", 'you', '?', '\"', 'and', 'then', 'proceeds', 'to', 'do', 'it', ',', 'and', 'break', 'all', 'the', 'stereotypes', ',', 'and', 'the', 'words', 'of', 'those', 'people', 'who', 'said', 'so', '.', 'And', 'that', 'is', 'where', 'this', 'comes', 'from', '.', 'This', 'thirst', '.', 'That', 'idea', '.', 'The', 'idea', 'of', 'a', 'machine', 'that', 'could', 'go', '300', '+', 'kmph', 'on', 'a', 'single', 'wheel', '.', 'The', 'idea', 'of', 'a', 'machine', 'that', 'weighs', 'less', 'than', 'a', 'horse', ',', 'but', 'has', 'more', '200', 'horsepower', '.', 'A', 'machine', 'that', 'lifts', 'up', \"it's\", 'front', 'wheel', 'like', 'it', \"doesn't\", 'have', 'one', '.', 'A', 'Mahcine', 'that', 'could', 'kill', 'you', 'faster', 'than', 'you', 'could', 'even', 'think', 'about', 'how', 'to', 'control', 'it', '.', 'If', 'that', 'machine', 'can', 'do', 'all', 'of', 'this', ',', \"it's\", 'not', 'a', 'machine', ',', \"it's\", 'a', 'living', 'thing', '.', 'A', 'beast', '.', 'A', 'beast', 'with', 'a', 'beating', 'heart', '.', 'One', 'that', 'drinks', 'fuel', ',', 'breathes', 'fires', 'and', 'roars', 'like', 'a', 'beast', '.', 'That', 'is', 'what', 'drive', 'me', '.', 'That', 'is', 'what', 'I', 'like', 'about', 'them', '.', 'That', 'close-to-death', 'feeling', '.', 'That', 'is', 'what', 'I', 'want', '.', 'That', 'is', 'what', 'makes', 'me', 'feel', 'alive', '.']\n"
     ]
    }
   ],
   "source": [
    "print(\"\\nTweet Tokenizer:\")\n",
    "tweets = nltk.TweetTokenizer()\n",
    "print(tweets.tokenize(raw))"
   ]
  },
  {
   "cell_type": "markdown",
   "metadata": {},
   "source": [
    "**Multi-Word Expression Tokenizer:** The multi-word expression tokenizer is a rule-based, “add-on” tokenizer offered by NLTK. Once the text has been tokenized by a tokenizer of choice, some tokens can be re-grouped into multi-word expressions. For example, the name Martha Jones is combined into a single token instead of being broken into two tokens."
   ]
  },
  {
   "cell_type": "code",
   "execution_count": 15,
   "metadata": {},
   "outputs": [
    {
     "name": "stdout",
     "output_type": "stream",
     "text": [
      "\n",
      "Multi-Word Expression Tokenizer:\n",
      "['T', 'h', 'i_s', ' ', 'i_s', ' ', 'a', ' ', 'p', 'a', 'r', 'a', 'g', 'r', 'a', 'p', 'h', ' ', 'o', 'n', ' ', 'h', 'o', 'w', ' ', 'i', ' ', 'g', 'o', 't', ' ', 'i', 'n', 't', 'o', ' ', 'a', 'u', 't', 'o', 'm', 'o', 'b', 'i', 'l', 'e', 's', '.', ' ', 'I', ' ', 'a', 'c', 't', 'u', 'a', 'l', 'l', 'y', ' ', 'w', 'a', 'n', 't', 'e', 'd', ' ', 't', 'o', ' ', 'b', 'e', 'c', 'o', 'm', 'e', ' ', 'a', 'n', ' ', 'a', 'i', 'r', 'f', 'o', 'r', 'c', 'e', ' ', 'p', 'i', 'l', 'o', 't', '.', ' ', 'I', ' ', 'w', 'a', 's', ' ', 'v', 'e', 'r', 'y', ' ', 'm', 'u', 'c', 'h', ' ', 'i', 'n', 't', 'o', ' ', 's', 'p', 'e', 'e', 'd', ' ', 'a', 'n', 'd', ' ', 'g', 'o', 'i', 'n', 'g', ' ', 'f', 'a', 's', 't', ' ', 'a', 'n', 'd', ' ', 'a', 'l', ' ', 't', 'h', 'a', 't', ' ', 'k', 'i', 'n', 'd', ' ', 'o', 'f', ' ', 's', 't', 'u', 'f', 'f', '.', ' ', 'B', 'u', 't', ' ', 't', 'h', 'e', 'r', 'e', ' ', 'w', 'a', 's', ' ', 'o', 'n', 'e', ' ', 'i_s', 's', 'u', 'e', ',', ' ', 'f', 'i', 'n', 'a', 'n', 'c', 'e', '.', ' ', 'M', 'y', ' ', 'p', 'a', 'r', 'e', 'n', 't', 's', ' ', 'w', 'e', 'r', 'e', 'n', \"'\", 't', ' ', 'a', 'b', 'l', 'e', ' ', 't', 'o', ' ', 'a', 'f', 'f', 'o', 'r', 'd', ',', ' ', 'a', 't', ' ', 't', 'h', 'a', 't', ' ', 't', 'i', 'm', 'e', '.', ' ', 'I', 'f', ' ', 'I', ' ', 'w', 'a', 'n', 't', 'e', 'd', ' ', 't', 'o', ' ', 'd', 'o', ' ', 'i', 't', ' ', 'n', 'o', 'w', ',', ' ', 't', 'h', 'e', 'y', ' ', 'w', 'o', 'u', 'l', 'd', \"'\", 'v', 'e', ' ', 'b', 'e', 'e', 'n', ' ', 'a', 'b', 'l', 'e', ' ', 't', 'o', ' ', 'a', 'f', 'f', 'o', 'r', 'd', '.', ' ', '❤', '️', '❤', '️', '❤', '️', '❤', '️', '❤', '️', '❤', '️', '❤', '️', '❤', '️', '😒', '😒', '😒', '😒', '😒', '😒', '😒', '😍', '😍', '😍', '😍', '😍', '👌', '👌', '🤣', '🙌', '🙌', '🎶', '🎶', '🎶', ' ', 'O', 'k', 'a', 'y', ',', ' ', 'l', 'e', 't', \"'\", 's', ' ', 'g', 'e', 't', ' ', 'b', 'a', 'c', 'k', ' ', 'o', 'n', ' ', 't', 'r', 'a', 'c', 'k', ',', ' ', 'I', ' ', 'l', 'i', 'k', 'e', ' ', 't', 'h', 'e', ' ', 'f', 'e', 'e', 'l', 'i', 'n', 'g', ' ', 'o', 'f', ' ', 's', 'p', 'e', 'e', 'd', '.', ' ', 'F', 'e', 'e', 'l', 'i', 'n', 'g', ' ', 't', 'h', 'a', 't', ' ', 'w', 'i', 'n', 'd', ' ', 'i', 'n', ' ', 'y', 'o', 'u', 'r', ' ', 'h', 'a', 'i', 'r', ' ', 'i_s', ' ', 'a', ' ', 'd', 'i', 'f', 'f', 'e', 'r', 'e', 'n', 't', ' ', 'k', 'i', 'n', 'd', ' ', 'o', 'f', ' ', 'f', 'e', 'e', 'l', 'i', 'n', 'g', '.', ' ', 'I', ' ', 'u', 's', 'e', 'd', ' ', 't', 'o', ' ', 'a', 's', 'k', ' ', 'm', 'y', ' ', 'd', 'a', 'd', ' ', 't', 'o', ' ', 't', 'a', 'k', 'e', ' ', 'm', 'e', ' ', 'o', 'n', ' ', 'b', 'i', 'k', 'e', ' ', 'r', 'i', 'd', 'e', 's', ' ', 'j', 'u', 's', 't', ' ', 't', 'o', ' ', 'e', 'x', 'p', 'e', 'r', 'i', 'e', 'n', 'c', 'e', ' ', 't', 'h', 'a', 't', ' ', 'f', 'e', 'e', 'l', 'i', 'n', 'g', '.', ' ', 'A', 'n', 'd', ' ', 'w', 'h', 'a', 't', ' ', 'w', 'a', 's', ' ', 't', 'h', 'e', ' ', 'n', 'e', 'x', 't', ' ', 'b', 'e', 's', 't', ' ', 't', 'h', 'i', 'n', 'g', ' ', 'i', 'f', ' ', 'y', 'o', 'u', ' ', 'c', 'o', 'u', 'l', 'd', 'n', \"'\", 't', ' ', 'b', 'e', 'c', 'o', 'm', 'e', ' ', 'a', ' ', 'p', 'i', 'l', 'o', 't', '.', ' ', 'B', 'i', 'k', 'e', 's', ',', ' ', 'a', 'n', 'd', ' ', 'C', 'a', 'r', 's', '.', '\\n', 'T', 'h', 'a', 't', \"'\", 's', ' ', 'h', 'o', 'w', ' ', 'I', ' ', 'g', 'o', 't', ' ', 'i', 'n', 't', 'o', ' ', 't', 'h', 'e', 'm', '.', ' ', 'B', 'a', 's', 'i', 'c', 'a', 'l', 'l', 'y', ',', ' ', 'g', 'o', 't', 't', 'e', 'n', ' ', 'a', 'd', 'd', 'i', 'c', 't', 'e', 'd', ' ', 't', 'o', ' ', 't', 'h', 'e', 'm', '.', ' ', 'A', 'n', 'd', ' ', 'I', \"'\", 'm', ' ', 's', 'o', ' ', 'f', 'a', 'm', 'i', 'l', 'i', 'a', 'r', ' ', 'w', 'i', 't', 'h', ' ', 't', 'h', 'e', 'm', ' ', 't', 'h', 'a', 't', ' ', 'I', ' ', 'c', 'a', 'n', ' ', 'i', 'd', 'e', 'n', 't', 'i', 'f', 'y', ' ', 'w', 'h', 'a', 't', ' ', 'k', 'i', 'n', 'd', ' ', 'o', 'f', ' ', 'c', 'a', 'r', '/', 'b', 'i', 'k', 'e', ' ', 'i', 't', ' ', 'i_s', ' ', 'j', 'u', 's', 't', ' ', 'b', 'y', ' ', 't', 'h', 'e', ' ', 'e', 'x', 'h', 'a', 'u', 's', 't', ' ', 'n', 'o', 't', 'e', 's', '.', ' ', 'A', ' ', 'l', 'o', 't', ' ', 'o', 'f', ' ', 'p', 'e', 'o', 'p', 'l', 'e', ' ', 'c', 'a', 'l', 'l', 'e', 'd', ' ', 'm', 'e', ' ', 'a', ' ', 'k', 'i', 'd', ' ', 'f', 'o', 'r', ' ', 't', 'h', 'a', 't', '.', ' ', 'I', ' ', 'm', 'e', 'a', 'n', ' ', 'I', ' ', 'g', 'e', 't', ' ', 'i', 't', ',', ' ', 'I', ' ', 'k', 'i', 'n', 'd', ' ', 'o', 'f', ' ', 'b', 'e', 'c', 'o', 'm', 'e', ' ', 'a', ' ', 'k', 'i', 'd', ',', ' ', 'w', 'h', 'e', 'n', ' ', 'I', \"'\", 'm', ' ', 'a', 'r', 'o', 'u', 'n', 'd', ' ', 'c', 'a', 'r', 's', ' ', 'o', 'r', ' ', 'b', 'i', 'k', 'e', 's', '.', ' ', 'I', ' ', 'c', 'a', 'n', ' ', 't', 'a', 'l', 'k', ' ', 'h', 'o', 'u', 'r', 's', ' ', 'a', 'n', 'd', ' ', 'h', 'o', 'u', 'r', 's', ' ', 'a', 'b', 'o', 'u', 't', ' ', 't', 'h', 'e', 'm', ',', ' ', 'd', 'e', 's', 'c', 'r', 'i', 'b', 'i', 'n', 'g', ' ', 'a', 'l', 'l', ' ', 'k', 'i', 'n', 'd', 's', ' ', 'o', 'f', ' ', 'e', 'n', 'g', 'i', 'n', 'e', 's', ',', ' ', 'e', 'n', 'g', 'i', 'n', 'e', ' ', 'c', 'o', 'n', 'f', 'i', 'g', 'u', 'r', 'a', 't', 'i', 'o', 'n', 's', ',', ' ', 'd', 'i', 'f', 'f', 'e', 'r', 'e', 'n', 't', ' ', 'c', 'o', 'm', 'p', 'o', 'n', 'e', 'n', 't', 's', ',', ' ', 'b', 'r', 'a', 'n', 'd', 's', ' ', 'a', 'n', 'd', ' ', 't', 'h', 'e', 'i', 'r', ' ', 'h', 'i_s', 't', 'o', 'r', 'y', '.', ' ', 'I', 'f', ' ', 'y', 'o', 'u', ' ', 'w', 'e', 'r', 'e', ' ', 't', 'o', ' ', 'a', 's', 'k', ' ', 'm', 'e', ' ', 'w', 'h', 'a', 't', ' ', 'm', 'y', ' ', 'd', 'r', 'e', 'a', 'm', ' ', 'g', 'a', 'r', 'g', 'e', ' ', 'w', 'o', 'u', 'l', 'd', ' ', 'i', 'n', 'c', 'l', 'u', 'd', 'e', ',', ' ', 'i', 't', ' ', 'w', 'o', 'u', 'l', 'd', ' ', 's', 'o', 'm', 'e', 't', 'h', 'i', 'n', 'g', ' ', 'l', 'i', 'k', 'e', ',', ' ', 'a', ' ', 'D', 'u', 'c', 'a', 't', 'i', ' ', 'P', 'a', 'n', 'i', 'g', 'a', 'l', 'e', ' ', 'V', '4', 'R', ',', ' ', '2', '0', '1', '8', ' ', 'K', 'a', 'w', 'a', 's', 'a', 'k', 'i', ' ', 'N', 'i', 'n', 'j', 'a', ' ', 'Z', 'X', '-', '1', '0', 'R', ' ', '(', 't', 'h', 'e', ' ', 'o', 'l', 'd', 'e', 'r', ' ', 'o', 'n', 'e', ')', ',', ' ', 'a', ' ', 'P', 'o', 'r', 's', 'c', 'h', 'e', ' ', '9', '9', '1', '.', '2', ' ', 'G', 'T', '3', ' ', 'R', 'S', ' ', 'W', 'e', 'i_s', 's', 'a', 'c', 'h', ' ', 'a', 'n', 'd', ' ', 'a', ' ', 'L', 'a', 'm', 'b', 'o', 'r', 'g', 'h', 'i', 'n', 'i', ' ', 'H', 'u', 'r', 'a', 'c', 'a', 'n', ' ', 'P', 'e', 'r', 'f', 'o', 'r', 'm', 'a', 'n', 't', 'e', '.', ' ', 'T', 'h', 'a', 't', ' ', 'w', 'o', 'u', 'l', 'd', ' ', 'b', 'e', ' ', 'm', 'y', ' ', 'p', 'e', 'r', 'f', 'e', 'c', 't', ' ', 'g', 'a', 'r', 'a', 'g', 'e', ',', ' ', 'a', 'n', 'd', ' ', 'I', 'f', ' ', 'i', ' ', 'w', 'e', 'r', 'e', ' ', 't', 'o', ' ', 'i', 'n', 'c', 'l', 'u', 'd', 'e', ' ', 'a', ' ', 'f', 'e', 'w', ' ', 'g', 'a', 'r', 'a', 'g', 'e', ' ', 'q', 'u', 'e', 'e', 'n', 's', ',', ' ', 't', 'h', 'e', 'n', ' ', 'a', ' ', 'R', 'o', 'y', 'a', 'l', ' ', 'E', 'n', 'f', 'i', 'e', 'l', 'd', ' ', 'C', 'o', 'n', 't', 'i', 'n', 'e', 'n', 't', 'a', 'l', ' ', 'G', 'T', '6', '5', '0', ' ', 'i', 'n', ' ', 'M', 'r', '.', ' ', 'C', 'l', 'e', 'a', 'n', ' ', 'a', 'n', 'd', ' ', 'a', ' ', 'P', 'o', 'r', 's', 'c', 'h', 'e', ' ', '9', '3', '0', ' ', 'T', 'u', 'r', 'b', 'o', ' ', 'f', 'r', 'o', 'm', ' ', 't', 'h', 'e', ' ', 'e', 'a', 'r', 'l', 'y', ' ', '9', '0', 's', \"'\", ',', ' ', 'f', 'a', 'm', 'o', 'u', 's', 'l', 'y', ' ', 'k', 'n', 'o', 'w', 'n', ' ', 'a', 's', ' ', '\"', 'T', 'h', 'e', ' ', 'W', 'i', 'd', 'o', 'w', 'm', 'a', 'k', 'e', 'r', '\"', '.', ' ', 'G', 'o', 'i', 'n', 'g', ' ', 'b', 'a', 'c', 'k', ' ', 't', 'o', ' ', 't', 'h', 'e', ' ', 'p', 'o', 'i', 'n', 't', ' ', 'o', 'f', ' ', 'w', 'h', 'y', ' ', 'I', ' ', 'l', 'i', 'k', 'e', ' ', 'a', 'u', 't', 'o', 'm', 'o', 'b', 'i', 'l', 'e', 's', ',', ' ', 'i', 'f', ' ', 'I', ' ', 'h', 'a', 'v', 'e', ' ', 't', 'o', ' ', 'b', 'e', ' ', 'b', 'r', 'u', 't', 'a', 'l', 'l', 'y', ' ', 'h', 'o', 'n', 'e', 's', 't', ' ', 'a', 'b', 'o', 'u', 't', ' ', 'i', 't', ',', ' ', 'I', ' ', 'k', 'n', 'o', 'w', ' ', 'I', ' ', 'l', 'i', 'k', 'e', ' ', 't', 'h', 'e', ' ', 'f', 'e', 'e', 'l', 'i', 'n', 'g', ' ', 'o', 'f', ' ', 's', 'p', 'e', 'e', 'd', ',', ' ', 'a', 'n', 'd', ' ', 'h', 'o', 'w', ' ', 'g', 'i', 'd', 'd', 'y', ' ', 'i', 't', ' ', 'm', 'a', 'k', 'e', 's', ' ', 'm', 'e', ' ', 't', 'o', ' ', 'g', 'o', ' ', 'a', ' ', '1', '2', '0', 'k', 'm', 'p', 'h', ' ', 'o', 'n', ' ', 't', 'h', 'e', ' ', 'h', 'i', 'g', 'h', 'w', 'a', 'y', ',', ' ', 'o', 'r', ' ', 't', 'h', 'a', 't', ' ', 'f', 'e', 'e', 'l', 'i', 'n', 'g', ' ', 'o', 'f', ' ', '\"', 'O', 'h', ' ', 'm', 'y', ' ', 'g', 'o', 'd', ',', ' ', 'I', ' ', 'w', 'a', 's', ' ', 'a', 'b', 'o', 'u', 't', ' ', 't', 'o', ' ', 'd', 'i', 'e', '!', '\"', ' ', 'w', 'h', 'e', 'n', ' ', 'y', 'o', 'u', ' ', 's', 'a', 'v', 'e', ' ', 'y', 'o', 'u', 'r', 's', 'e', 'l', 'f', ' ', ' ', 'f', 'r', 'o', 'm', ' ', 'a', 'n', ' ', 'a', 'c', 'c', 'i', 'd', 'e', 'n', 't', ',', ' ', 'a', 'n', 'd', ' ', 'a', 'l', 'l', '.', ' ', 'A', 'l', 'l', ' ', 'o', 'f', ' ', 't', 'h', 'e', 's', 'e', ' ', 'a', 'r', 'e', ' ', 'g', 'o', 'o', 'd', ' ', 'a', 'n', 'd', ' ', 'a', 'm', 'a', 'z', 'i', 'n', 'g', ',', ' ', 'b', 'u', 't', ' ', 'I', \"'\", 'l', 'l', ' ', 't', 'e', 'l', 'l', ' ', 'y', 'o', 'u', ' ', 'w', 'h', 'a', 't', ' ', 'I', ' ', 't', 'h', 'i', 'n', 'k', '.', ' ', 'I', 't', \"'\", 's', ' ', 'j', 'u', 's', 't', ' ', 'b', 'a', 's', 'i', 'c', ' ', 'h', 'u', 'm', 'a', 'n', ' ', 'i', 'n', 's', 't', 'i', 'n', 'c', 't', '.', ' ', 'T', 'h', 'a', 't', ' ', 't', 'h', 'i', 'r', 's', 't', ' ', 'o', 'f', ' ', 'h', 'u', 'm', 'a', 'n', 's', ' ', 't', 'o', ' ', 't', 'a', 'm', 'e', ' ', 't', 'h', 'i', 'n', 'g', 's', ' ', 't', 'h', 'a', 't', ' ', 'w', 'e', ' ', 'c', 'a', 'n', \"'\", 't', ' ', 'c', 'o', 'n', 't', 'r', 'o', 'l', '.', ' ', 'H', 'i_s', 't', 'o', 'r', 'y', ' ', 'h', 'a', 's', ' ', 's', 'h', 'o', 'w', 'n', ' ', 'u', 's', ' ', 't', 'h', 'a', 't', ' ', 'w', 'h', 'e', 'n', 'e', 'v', 'e', 'r', ' ', 't', 'h', 'e', 'r', 'e', ' ', 'i_s', ' ', 's', 'o', 'm', 'e', 't', 'h', 'i', 'n', 'g', ' ', 't', 'h', 'a', 't', ' ', 'p', 'e', 'o', 'p', 'l', 'e', ' ', 's', 'a', 'y', ' ', 'c', 'a', 'n', \"'\", 't', ' ', 'b', 'e', ' ', 'd', 'o', 'n', 'e', ',', ' ', 't', 'h', 'e', 'r', 'e', ' ', 'w', 'i', 'l', 'l', ' ', 'a', 'l', 'w', 'a', 'y', 's', ' ', 'b', 'e', ' ', 's', 'o', 'm', 'e', 'o', 'n', 'e', ' ', 'w', 'h', 'o', ' ', 's', 'a', 'y', 's', ' ', '\"', 'W', 'e', 'l', 'l', ',', ' ', 'w', 'h', 'y', ' ', 'c', 'a', 'n', \"'\", 't', ' ', 'y', 'o', 'u', '?', '\"', ' ', 'a', 'n', 'd', ' ', 't', 'h', 'e', 'n', ' ', 'p', 'r', 'o', 'c', 'e', 'e', 'd', 's', ' ', 't', 'o', ' ', 'd', 'o', ' ', 'i', 't', ',', ' ', 'a', 'n', 'd', ' ', 'b', 'r', 'e', 'a', 'k', ' ', 'a', 'l', 'l', ' ', 't', 'h', 'e', ' ', 's', 't', 'e', 'r', 'e', 'o', 't', 'y', 'p', 'e', 's', ',', ' ', 'a', 'n', 'd', ' ', 't', 'h', 'e', ' ', 'w', 'o', 'r', 'd', 's', ' ', 'o', 'f', ' ', 't', 'h', 'o', 's', 'e', ' ', 'p', 'e', 'o', 'p', 'l', 'e', ' ', 'w', 'h', 'o', ' ', 's', 'a', 'i', 'd', ' ', 's', 'o', '.', ' ', 'A', 'n', 'd', ' ', 't', 'h', 'a', 't', ' ', 'i_s', ' ', 'w', 'h', 'e', 'r', 'e', ' ', 't', 'h', 'i_s', ' ', 'c', 'o', 'm', 'e', 's', ' ', 'f', 'r', 'o', 'm', '.', ' ', 'T', 'h', 'i_s', ' ', 't', 'h', 'i', 'r', 's', 't', '.', ' ', 'T', 'h', 'a', 't', ' ', 'i', 'd', 'e', 'a', '.', ' ', 'T', 'h', 'e', ' ', 'i', 'd', 'e', 'a', ' ', 'o', 'f', ' ', 'a', ' ', 'm', 'a', 'c', 'h', 'i', 'n', 'e', ' ', 't', 'h', 'a', 't', ' ', 'c', 'o', 'u', 'l', 'd', ' ', 'g', 'o', ' ', '3', '0', '0', '+', ' ', 'k', 'm', 'p', 'h', ' ', 'o', 'n', ' ', 'a', ' ', 's', 'i', 'n', 'g', 'l', 'e', ' ', 'w', 'h', 'e', 'e', 'l', '.', ' ', 'T', 'h', 'e', ' ', 'i', 'd', 'e', 'a', ' ', 'o', 'f', ' ', 'a', ' ', 'm', 'a', 'c', 'h', 'i', 'n', 'e', ' ', 't', 'h', 'a', 't', ' ', 'w', 'e', 'i', 'g', 'h', 's', ' ', 'l', 'e', 's', 's', ' ', 't', 'h', 'a', 'n', ' ', 'a', ' ', 'h', 'o', 'r', 's', 'e', ',', ' ', 'b', 'u', 't', ' ', 'h', 'a', 's', ' ', 'm', 'o', 'r', 'e', ' ', '2', '0', '0', ' ', 'h', 'o', 'r', 's', 'e', 'p', 'o', 'w', 'e', 'r', '.', ' ', 'A', ' ', 'm', 'a', 'c', 'h', 'i', 'n', 'e', ' ', 't', 'h', 'a', 't', ' ', 'l', 'i', 'f', 't', 's', ' ', 'u', 'p', ' ', 'i', 't', \"'\", 's', ' ', 'f', 'r', 'o', 'n', 't', ' ', 'w', 'h', 'e', 'e', 'l', ' ', 'l', 'i', 'k', 'e', ' ', 'i', 't', ' ', 'd', 'o', 'e', 's', 'n', \"'\", 't', ' ', 'h', 'a', 'v', 'e', ' ', 'o', 'n', 'e', '.', ' ', 'A', ' ', 'M', 'a', 'h', 'c', 'i', 'n', 'e', ' ', 't', 'h', 'a', 't', ' ', 'c', 'o', 'u', 'l', 'd', ' ', 'k', 'i', 'l', 'l', ' ', 'y', 'o', 'u', ' ', 'f', 'a', 's', 't', 'e', 'r', ' ', 't', 'h', 'a', 'n', ' ', 'y', 'o', 'u', ' ', 'c', 'o', 'u', 'l', 'd', ' ', 'e', 'v', 'e', 'n', ' ', 't', 'h', 'i', 'n', 'k', ' ', 'a', 'b', 'o', 'u', 't', ' ', 'h', 'o', 'w', ' ', 't', 'o', ' ', 'c', 'o', 'n', 't', 'r', 'o', 'l', ' ', 'i', 't', '.', ' ', 'I', 'f', ' ', 't', 'h', 'a', 't', ' ', 'm', 'a', 'c', 'h', 'i', 'n', 'e', ' ', 'c', 'a', 'n', ' ', 'd', 'o', ' ', 'a', 'l', 'l', ' ', 'o', 'f', ' ', 't', 'h', 'i_s', ',', ' ', 'i', 't', \"'\", 's', ' ', 'n', 'o', 't', ' ', 'a', ' ', 'm', 'a', 'c', 'h', 'i', 'n', 'e', ',', ' ', 'i', 't', \"'\", 's', ' ', 'a', ' ', 'l', 'i', 'v', 'i', 'n', 'g', ' ', 't', 'h', 'i', 'n', 'g', '.', ' ', 'A', ' ', 'b', 'e', 'a', 's', 't', '.', ' ', 'A', ' ', 'b', 'e', 'a', 's', 't', ' ', 'w', 'i', 't', 'h', ' ', 'a', ' ', 'b', 'e', 'a', 't', 'i', 'n', 'g', ' ', 'h', 'e', 'a', 'r', 't', '.', '\\n', 'O', 'n', 'e', ' ', 't', 'h', 'a', 't', ' ', 'd', 'r', 'i', 'n', 'k', 's', ' ', 'f', 'u', 'e', 'l', ',', ' ', 'b', 'r', 'e', 'a', 't', 'h', 'e', 's', ' ', 'f', 'i', 'r', 'e', 's', ' ', 'a', 'n', 'd', ' ', 'r', 'o', 'a', 'r', 's', ' ', 'l', 'i', 'k', 'e', ' ', 'a', ' ', 'b', 'e', 'a', 's', 't', '.', ' ', 'T', 'h', 'a', 't', ' ', 'i_s', ' ', 'w', 'h', 'a', 't', ' ', 'd', 'r', 'i', 'v', 'e', ' ', 'm', 'e', '.', ' ', 'T', 'h', 'a', 't', ' ', 'i_s', ' ', 'w', 'h', 'a', 't', ' ', 'I', ' ', 'l', 'i', 'k', 'e', ' ', 'a', 'b', 'o', 'u', 't', ' ', 't', 'h', 'e', 'm', '.', ' ', 'T', 'h', 'a', 't', ' ', 'c', 'l', 'o', 's', 'e', '-', 't', 'o', '-', 'd', 'e', 'a', 't', 'h', ' ', 'f', 'e', 'e', 'l', 'i', 'n', 'g', '.', ' ', 'T', 'h', 'a', 't', ' ', 'i_s', ' ', 'w', 'h', 'a', 't', ' ', 'I', ' ', 'w', 'a', 'n', 't', '.', ' ', 'T', 'h', 'a', 't', ' ', 'i_s', ' ', 'w', 'h', 'a', 't', ' ', 'm', 'a', 'k', 'e', 's', ' ', 'm', 'e', ' ', 'f', 'e', 'e', 'l', ' ', 'a', 'l', 'i', 'v', 'e', '.']\n"
     ]
    }
   ],
   "source": [
    "print(\"\\nMulti-Word Expression Tokenizer:\")\n",
    "mwet = nltk.MWETokenizer()\n",
    "mwet.add_mwe(('is'))\n",
    "print(mwet.tokenize(raw))"
   ]
  },
  {
   "cell_type": "markdown",
   "metadata": {},
   "source": [
    "**TextBlob Tokenizer:** Instead of splitting our string based on different delimiters such as a “,” or a “.” or space."
   ]
  },
  {
   "cell_type": "code",
   "execution_count": null,
   "metadata": {},
   "outputs": [
    {
     "name": "stdout",
     "output_type": "stream",
     "text": [
      "\n",
      "Text Blob Tokenizer:\n",
      "['This', 'is', 'a', 'paragraph', 'on', 'how', 'i', 'got', 'into', 'automobiles', 'I', 'actually', 'wanted', 'to', 'become', 'an', 'airforce', 'pilot', 'I', 'was', 'very', 'much', 'into', 'speed', 'and', 'going', 'fast', 'and', 'al', 'that', 'kind', 'of', 'stuff', 'But', 'there', 'was', 'one', 'issue', 'finance', 'My', 'parents', 'were', \"n't\", 'able', 'to', 'afford', 'at', 'that', 'time', 'If', 'I', 'wanted', 'to', 'do', 'it', 'now', 'they', 'would', \"'ve\", 'been', 'able', 'to', 'afford', '❤️❤️❤️❤️❤️❤️❤️❤️😒😒😒😒😒😒😒😍😍😍😍😍👌👌🤣🙌🙌🎶🎶🎶', 'Okay', 'let', \"'s\", 'get', 'back', 'on', 'track', 'I', 'like', 'the', 'feeling', 'of', 'speed', 'Feeling', 'that', 'wind', 'in', 'your', 'hair', 'is', 'a', 'different', 'kind', 'of', 'feeling', 'I', 'used', 'to', 'ask', 'my', 'dad', 'to', 'take', 'me', 'on', 'bike', 'rides', 'just', 'to', 'experience', 'that', 'feeling', 'And', 'what', 'was', 'the', 'next', 'best', 'thing', 'if', 'you', 'could', \"n't\", 'become', 'a', 'pilot', 'Bikes', 'and', 'Cars', 'That', \"'s\", 'how', 'I', 'got', 'into', 'them', 'Basically', 'gotten', 'addicted', 'to', 'them', 'And', 'I', \"'m\", 'so', 'familiar', 'with', 'them', 'that', 'I', 'can', 'identify', 'what', 'kind', 'of', 'car/bike', 'it', 'is', 'just', 'by', 'the', 'exhaust', 'notes', 'A', 'lot', 'of', 'people', 'called', 'me', 'a', 'kid', 'for', 'that', 'I', 'mean', 'I', 'get', 'it', 'I', 'kind', 'of', 'become', 'a', 'kid', 'when', 'I', \"'m\", 'around', 'cars', 'or', 'bikes', 'I', 'can', 'talk', 'hours', 'and', 'hours', 'about', 'them', 'describing', 'all', 'kinds', 'of', 'engines', 'engine', 'configurations', 'different', 'components', 'brands', 'and', 'their', 'history', 'If', 'you', 'were', 'to', 'ask', 'me', 'what', 'my', 'dream', 'garge', 'would', 'include', 'it', 'would', 'something', 'like', 'a', 'Ducati', 'Panigale', 'V4R', '2018', 'Kawasaki', 'Ninja', 'ZX-10R', 'the', 'older', 'one', 'a', 'Porsche', '991.2', 'GT3', 'RS', 'Weissach', 'and', 'a', 'Lamborghini', 'Huracan', 'Performante', 'That', 'would', 'be', 'my', 'perfect', 'garage', 'and', 'If', 'i', 'were', 'to', 'include', 'a', 'few', 'garage', 'queens', 'then', 'a', 'Royal', 'Enfield', 'Continental', 'GT650', 'in', 'Mr', 'Clean', 'and', 'a', 'Porsche', '930', 'Turbo', 'from', 'the', 'early', '90s', 'famously', 'known', 'as', 'The', 'Widowmaker', 'Going', 'back', 'to', 'the', 'point', 'of', 'why', 'I', 'like', 'automobiles', 'if', 'I', 'have', 'to', 'be', 'brutally', 'honest', 'about', 'it', 'I', 'know', 'I', 'like', 'the', 'feeling', 'of', 'speed', 'and', 'how', 'giddy', 'it', 'makes', 'me', 'to', 'go', 'a', '120kmph', 'on', 'the', 'highway', 'or', 'that', 'feeling', 'of', 'Oh', 'my', 'god', 'I', 'was', 'about', 'to', 'die', 'when', 'you', 'save', 'yourself', 'from', 'an', 'accident', 'and', 'all', 'All', 'of', 'these', 'are', 'good', 'and', 'amazing', 'but', 'I', \"'ll\", 'tell', 'you', 'what', 'I', 'think', 'It', \"'s\", 'just', 'basic', 'human', 'instinct', 'That', 'thirst', 'of', 'humans', 'to', 'tame', 'things', 'that', 'we', 'ca', \"n't\", 'control', 'History', 'has', 'shown', 'us', 'that', 'whenever', 'there', 'is', 'something', 'that', 'people', 'say', 'ca', \"n't\", 'be', 'done', 'there', 'will', 'always', 'be', 'someone', 'who', 'says', 'Well', 'why', 'ca', \"n't\", 'you', 'and', 'then', 'proceeds', 'to', 'do', 'it', 'and', 'break', 'all', 'the', 'stereotypes', 'and', 'the', 'words', 'of', 'those', 'people', 'who', 'said', 'so', 'And', 'that', 'is', 'where', 'this', 'comes', 'from', 'This', 'thirst', 'That', 'idea', 'The', 'idea', 'of', 'a', 'machine', 'that', 'could', 'go', '300', 'kmph', 'on', 'a', 'single', 'wheel', 'The', 'idea', 'of', 'a', 'machine', 'that', 'weighs', 'less', 'than', 'a', 'horse', 'but', 'has', 'more', '200', 'horsepower', 'A', 'machine', 'that', 'lifts', 'up', 'it', \"'s\", 'front', 'wheel', 'like', 'it', 'does', \"n't\", 'have', 'one', 'A', 'Mahcine', 'that', 'could', 'kill', 'you', 'faster', 'than', 'you', 'could', 'even', 'think', 'about', 'how', 'to', 'control', 'it', 'If', 'that', 'machine', 'can', 'do', 'all', 'of', 'this', 'it', \"'s\", 'not', 'a', 'machine', 'it', \"'s\", 'a', 'living', 'thing', 'A', 'beast', 'A', 'beast', 'with', 'a', 'beating', 'heart', 'One', 'that', 'drinks', 'fuel', 'breathes', 'fires', 'and', 'roars', 'like', 'a', 'beast', 'That', 'is', 'what', 'drive', 'me', 'That', 'is', 'what', 'I', 'like', 'about', 'them', 'That', 'close-to-death', 'feeling', 'That', 'is', 'what', 'I', 'want', 'That', 'is', 'what', 'makes', 'me', 'feel', 'alive']\n"
     ]
    }
   ],
   "source": [
    "from textblob import TextBlob\n",
    "print(\"\\nText Blob Tokenizer:\")\n",
    "blob = TextBlob(raw)\n",
    "print(blob.words)"
   ]
  },
  {
   "cell_type": "markdown",
   "metadata": {},
   "source": [
    "**spaCy Tokenizer:** First, the raw text is split on whitespace characters, similar to text. split ( ' ' ). Then, the tokenizer processes the text from left to right."
   ]
  },
  {
   "cell_type": "code",
   "execution_count": null,
   "metadata": {},
   "outputs": [
    {
     "name": "stdout",
     "output_type": "stream",
     "text": [
      "\n",
      "spaCy tokenizer:\n",
      "['This', 'is', 'a', 'paragraph', 'on', 'how', 'i', 'got', 'into', 'automobiles', '.', 'I', 'actually', 'wanted', 'to', 'become', 'an', 'airforce', 'pilot', '.', 'I', 'was', 'very', 'much', 'into', 'speed', 'and', 'going', 'fast', 'and', 'al', 'that', 'kind', 'of', 'stuff', '.', 'But', 'there', 'was', 'one', 'issue', ',', 'finance', '.', 'My', 'parents', 'were', \"n't\", 'able', 'to', 'afford', ',', 'at', 'that', 'time', '.', 'If', 'I', 'wanted', 'to', 'do', 'it', 'now', ',', 'they', 'would', \"'ve\", 'been', 'able', 'to', 'afford', '.', '❤', '️', '❤', '️', '❤', '️', '❤', '️', '❤', '️', '❤', '️', '❤', '️', '❤', '️', '😒', '😒', '😒', '😒', '😒', '😒', '😒', '😍', '😍', '😍', '😍', '😍', '👌', '👌', '🤣', '🙌', '🙌', '🎶', '🎶', '🎶', 'Okay', ',', 'let', \"'s\", 'get', 'back', 'on', 'track', ',', 'I', 'like', 'the', 'feeling', 'of', 'speed', '.', 'Feeling', 'that', 'wind', 'in', 'your', 'hair', 'is', 'a', 'different', 'kind', 'of', 'feeling', '.', 'I', 'used', 'to', 'ask', 'my', 'dad', 'to', 'take', 'me', 'on', 'bike', 'rides', 'just', 'to', 'experience', 'that', 'feeling', '.', 'And', 'what', 'was', 'the', 'next', 'best', 'thing', 'if', 'you', 'could', \"n't\", 'become', 'a', 'pilot', '.', 'Bikes', ',', 'and', 'Cars', '.', '\\n', 'That', \"'s\", 'how', 'I', 'got', 'into', 'them', '.', 'Basically', ',', 'gotten', 'addicted', 'to', 'them', '.', 'And', 'I', \"'m\", 'so', 'familiar', 'with', 'them', 'that', 'I', 'can', 'identify', 'what', 'kind', 'of', 'car', '/', 'bike', 'it', 'is', 'just', 'by', 'the', 'exhaust', 'notes', '.', 'A', 'lot', 'of', 'people', 'called', 'me', 'a', 'kid', 'for', 'that', '.', 'I', 'mean', 'I', 'get', 'it', ',', 'I', 'kind', 'of', 'become', 'a', 'kid', ',', 'when', 'I', \"'m\", 'around', 'cars', 'or', 'bikes', '.', 'I', 'can', 'talk', 'hours', 'and', 'hours', 'about', 'them', ',', 'describing', 'all', 'kinds', 'of', 'engines', ',', 'engine', 'configurations', ',', 'different', 'components', ',', 'brands', 'and', 'their', 'history', '.', 'If', 'you', 'were', 'to', 'ask', 'me', 'what', 'my', 'dream', 'garge', 'would', 'include', ',', 'it', 'would', 'something', 'like', ',', 'a', 'Ducati', 'Panigale', 'V4R', ',', '2018', 'Kawasaki', 'Ninja', 'ZX-10R', '(', 'the', 'older', 'one', ')', ',', 'a', 'Porsche', '991.2', 'GT3', 'RS', 'Weissach', 'and', 'a', 'Lamborghini', 'Huracan', 'Performante', '.', 'That', 'would', 'be', 'my', 'perfect', 'garage', ',', 'and', 'If', 'i', 'were', 'to', 'include', 'a', 'few', 'garage', 'queens', ',', 'then', 'a', 'Royal', 'Enfield', 'Continental', 'GT650', 'in', 'Mr.', 'Clean', 'and', 'a', 'Porsche', '930', 'Turbo', 'from', 'the', 'early', '90s', \"'\", ',', 'famously', 'known', 'as', '\"', 'The', 'Widowmaker', '\"', '.', 'Going', 'back', 'to', 'the', 'point', 'of', 'why', 'I', 'like', 'automobiles', ',', 'if', 'I', 'have', 'to', 'be', 'brutally', 'honest', 'about', 'it', ',', 'I', 'know', 'I', 'like', 'the', 'feeling', 'of', 'speed', ',', 'and', 'how', 'giddy', 'it', 'makes', 'me', 'to', 'go', 'a', '120kmph', 'on', 'the', 'highway', ',', 'or', 'that', 'feeling', 'of', '\"', 'Oh', 'my', 'god', ',', 'I', 'was', 'about', 'to', 'die', '!', '\"', 'when', 'you', 'save', 'yourself', ' ', 'from', 'an', 'accident', ',', 'and', 'all', '.', 'All', 'of', 'these', 'are', 'good', 'and', 'amazing', ',', 'but', 'I', \"'ll\", 'tell', 'you', 'what', 'I', 'think', '.', 'It', \"'s\", 'just', 'basic', 'human', 'instinct', '.', 'That', 'thirst', 'of', 'humans', 'to', 'tame', 'things', 'that', 'we', 'ca', \"n't\", 'control', '.', 'History', 'has', 'shown', 'us', 'that', 'whenever', 'there', 'is', 'something', 'that', 'people', 'say', 'ca', \"n't\", 'be', 'done', ',', 'there', 'will', 'always', 'be', 'someone', 'who', 'says', '\"', 'Well', ',', 'why', 'ca', \"n't\", 'you', '?', '\"', 'and', 'then', 'proceeds', 'to', 'do', 'it', ',', 'and', 'break', 'all', 'the', 'stereotypes', ',', 'and', 'the', 'words', 'of', 'those', 'people', 'who', 'said', 'so', '.', 'And', 'that', 'is', 'where', 'this', 'comes', 'from', '.', 'This', 'thirst', '.', 'That', 'idea', '.', 'The', 'idea', 'of', 'a', 'machine', 'that', 'could', 'go', '300', '+', 'kmph', 'on', 'a', 'single', 'wheel', '.', 'The', 'idea', 'of', 'a', 'machine', 'that', 'weighs', 'less', 'than', 'a', 'horse', ',', 'but', 'has', 'more', '200', 'horsepower', '.', 'A', 'machine', 'that', 'lifts', 'up', 'it', \"'s\", 'front', 'wheel', 'like', 'it', 'does', \"n't\", 'have', 'one', '.', 'A', 'Mahcine', 'that', 'could', 'kill', 'you', 'faster', 'than', 'you', 'could', 'even', 'think', 'about', 'how', 'to', 'control', 'it', '.', 'If', 'that', 'machine', 'can', 'do', 'all', 'of', 'this', ',', 'it', \"'s\", 'not', 'a', 'machine', ',', 'it', \"'s\", 'a', 'living', 'thing', '.', 'A', 'beast', '.', 'A', 'beast', 'with', 'a', 'beating', 'heart', '.', '\\n', 'One', 'that', 'drinks', 'fuel', ',', 'breathes', 'fires', 'and', 'roars', 'like', 'a', 'beast', '.', 'That', 'is', 'what', 'drive', 'me', '.', 'That', 'is', 'what', 'I', 'like', 'about', 'them', '.', 'That', 'close', '-', 'to', '-', 'death', 'feeling', '.', 'That', 'is', 'what', 'I', 'want', '.', 'That', 'is', 'what', 'makes', 'me', 'feel', 'alive', '.']\n"
     ]
    }
   ],
   "source": [
    "import spacy\n",
    "from spacy.lang.en import English\n",
    "print(\"\\nspaCy tokenizer:\")\n",
    "nlp = English()\n",
    "spice = nlp.tokenizer\n",
    "doc = nlp(raw)\n",
    "print([token.text for token in doc])"
   ]
  },
  {
   "cell_type": "markdown",
   "metadata": {},
   "source": [
    "**GenSim Word Tokenizer:** "
   ]
  },
  {
   "cell_type": "code",
   "execution_count": null,
   "metadata": {},
   "outputs": [
    {
     "name": "stdout",
     "output_type": "stream",
     "text": [
      "\n",
      "Gensim word Tokenizer:\n",
      "['This', 'is', 'a', 'paragraph', 'on', 'how', 'i', 'got', 'into', 'automobiles', 'I', 'actually', 'wanted', 'to', 'become', 'an', 'airforce', 'pilot', 'I', 'was', 'very', 'much', 'into', 'speed', 'and', 'going', 'fast', 'and', 'al', 'that', 'kind', 'of', 'stuff', 'But', 'there', 'was', 'one', 'issue', 'finance', 'My', 'parents', 'weren', 't', 'able', 'to', 'afford', 'at', 'that', 'time', 'If', 'I', 'wanted', 'to', 'do', 'it', 'now', 'they', 'would', 've', 'been', 'able', 'to', 'afford', 'Okay', 'let', 's', 'get', 'back', 'on', 'track', 'I', 'like', 'the', 'feeling', 'of', 'speed', 'Feeling', 'that', 'wind', 'in', 'your', 'hair', 'is', 'a', 'different', 'kind', 'of', 'feeling', 'I', 'used', 'to', 'ask', 'my', 'dad', 'to', 'take', 'me', 'on', 'bike', 'rides', 'just', 'to', 'experience', 'that', 'feeling', 'And', 'what', 'was', 'the', 'next', 'best', 'thing', 'if', 'you', 'couldn', 't', 'become', 'a', 'pilot', 'Bikes', 'and', 'Cars', 'That', 's', 'how', 'I', 'got', 'into', 'them', 'Basically', 'gotten', 'addicted', 'to', 'them', 'And', 'I', 'm', 'so', 'familiar', 'with', 'them', 'that', 'I', 'can', 'identify', 'what', 'kind', 'of', 'car', 'bike', 'it', 'is', 'just', 'by', 'the', 'exhaust', 'notes', 'A', 'lot', 'of', 'people', 'called', 'me', 'a', 'kid', 'for', 'that', 'I', 'mean', 'I', 'get', 'it', 'I', 'kind', 'of', 'become', 'a', 'kid', 'when', 'I', 'm', 'around', 'cars', 'or', 'bikes', 'I', 'can', 'talk', 'hours', 'and', 'hours', 'about', 'them', 'describing', 'all', 'kinds', 'of', 'engines', 'engine', 'configurations', 'different', 'components', 'brands', 'and', 'their', 'history', 'If', 'you', 'were', 'to', 'ask', 'me', 'what', 'my', 'dream', 'garge', 'would', 'include', 'it', 'would', 'something', 'like', 'a', 'Ducati', 'Panigale', 'V', 'R', 'Kawasaki', 'Ninja', 'ZX', 'R', 'the', 'older', 'one', 'a', 'Porsche', 'GT', 'RS', 'Weissach', 'and', 'a', 'Lamborghini', 'Huracan', 'Performante', 'That', 'would', 'be', 'my', 'perfect', 'garage', 'and', 'If', 'i', 'were', 'to', 'include', 'a', 'few', 'garage', 'queens', 'then', 'a', 'Royal', 'Enfield', 'Continental', 'GT', 'in', 'Mr', 'Clean', 'and', 'a', 'Porsche', 'Turbo', 'from', 'the', 'early', 's', 'famously', 'known', 'as', 'The', 'Widowmaker', 'Going', 'back', 'to', 'the', 'point', 'of', 'why', 'I', 'like', 'automobiles', 'if', 'I', 'have', 'to', 'be', 'brutally', 'honest', 'about', 'it', 'I', 'know', 'I', 'like', 'the', 'feeling', 'of', 'speed', 'and', 'how', 'giddy', 'it', 'makes', 'me', 'to', 'go', 'a', 'kmph', 'on', 'the', 'highway', 'or', 'that', 'feeling', 'of', 'Oh', 'my', 'god', 'I', 'was', 'about', 'to', 'die', 'when', 'you', 'save', 'yourself', 'from', 'an', 'accident', 'and', 'all', 'All', 'of', 'these', 'are', 'good', 'and', 'amazing', 'but', 'I', 'll', 'tell', 'you', 'what', 'I', 'think', 'It', 's', 'just', 'basic', 'human', 'instinct', 'That', 'thirst', 'of', 'humans', 'to', 'tame', 'things', 'that', 'we', 'can', 't', 'control', 'History', 'has', 'shown', 'us', 'that', 'whenever', 'there', 'is', 'something', 'that', 'people', 'say', 'can', 't', 'be', 'done', 'there', 'will', 'always', 'be', 'someone', 'who', 'says', 'Well', 'why', 'can', 't', 'you', 'and', 'then', 'proceeds', 'to', 'do', 'it', 'and', 'break', 'all', 'the', 'stereotypes', 'and', 'the', 'words', 'of', 'those', 'people', 'who', 'said', 'so', 'And', 'that', 'is', 'where', 'this', 'comes', 'from', 'This', 'thirst', 'That', 'idea', 'The', 'idea', 'of', 'a', 'machine', 'that', 'could', 'go', 'kmph', 'on', 'a', 'single', 'wheel', 'The', 'idea', 'of', 'a', 'machine', 'that', 'weighs', 'less', 'than', 'a', 'horse', 'but', 'has', 'more', 'horsepower', 'A', 'machine', 'that', 'lifts', 'up', 'it', 's', 'front', 'wheel', 'like', 'it', 'doesn', 't', 'have', 'one', 'A', 'Mahcine', 'that', 'could', 'kill', 'you', 'faster', 'than', 'you', 'could', 'even', 'think', 'about', 'how', 'to', 'control', 'it', 'If', 'that', 'machine', 'can', 'do', 'all', 'of', 'this', 'it', 's', 'not', 'a', 'machine', 'it', 's', 'a', 'living', 'thing', 'A', 'beast', 'A', 'beast', 'with', 'a', 'beating', 'heart', 'One', 'that', 'drinks', 'fuel', 'breathes', 'fires', 'and', 'roars', 'like', 'a', 'beast', 'That', 'is', 'what', 'drive', 'me', 'That', 'is', 'what', 'I', 'like', 'about', 'them', 'That', 'close', 'to', 'death', 'feeling', 'That', 'is', 'what', 'I', 'want', 'That', 'is', 'what', 'makes', 'me', 'feel', 'alive']\n"
     ]
    }
   ],
   "source": [
    "from gensim.utils import tokenize\n",
    "print(\"\\nGensim word Tokenizer:\")\n",
    "print(list(tokenize(raw)))"
   ]
  },
  {
   "cell_type": "markdown",
   "metadata": {},
   "source": [
    "Tokenization with Keras is not possible, because there is not support for Radeon GPUs' and Keras only support until Python 3.11. No support for 3.12 is provided. hence, installing keras and tensorflow with 3.12 is difficult."
   ]
  }
 ],
 "metadata": {
  "kernelspec": {
   "display_name": "Python 3",
   "language": "python",
   "name": "python3"
  },
  "language_info": {
   "codemirror_mode": {
    "name": "ipython",
    "version": 3
   },
   "file_extension": ".py",
   "mimetype": "text/x-python",
   "name": "python",
   "nbconvert_exporter": "python",
   "pygments_lexer": "ipython3",
   "version": "3.12.1"
  }
 },
 "nbformat": 4,
 "nbformat_minor": 2
}
